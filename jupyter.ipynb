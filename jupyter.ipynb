{
 "cells": [
  {
   "cell_type": "code",
   "execution_count": 370,
   "metadata": {},
   "outputs": [
    {
     "name": "stdout",
     "output_type": "stream",
     "text": [
      "Index(['Age', 'RemoteWork', 'EdLevel', 'LearnCode', 'DevType', 'Country',\n",
      "       'Currency', 'LanguageHaveWorkedWith', 'LanguageWantToWorkWith',\n",
      "       'ConvertedCompYearly'],\n",
      "      dtype='object')\n"
     ]
    }
   ],
   "source": [
    "#Importando bibliotecas\n",
    "import pandas as pd\n",
    "import matplotlib.pyplot as plt\n",
    "import numpy as np\n",
    "import plotly.express as px\n",
    "import plotly.graph_objects as go\n",
    "import warnings\n",
    "from sklearn.linear_model import LinearRegression\n",
    "\n",
    "\n",
    "#Importando dataset\n",
    "df = pd.read_csv(\"survey_results_public.csv\")\n",
    "pd.set_option('display.max_row', 500)\n",
    "pd.set_option('display.float_format', '{:.2f}'.format)\n",
    "\n",
    "#Codigo para eliminar colunas desnecessarias e salvar como um novo .csv\n",
    "'''\n",
    "df = df.drop(columns=['ResponseId','CodingActivities','Employment','OrgSize','TechList','PurchaseInfluence','BuyNewTool','PlatformHaveWorkedWith','PlatformWantToWorkWith','Q120','DatabaseHaveWorkedWith','DatabaseWantToWorkWith','WebframeHaveWorkedWith','WebframeWantToWorkWith',\n",
    "       'MiscTechHaveWorkedWith', 'MiscTechWantToWorkWith',\n",
    "       'ToolsTechHaveWorkedWith', 'ToolsTechWantToWorkWith',\n",
    "       'NEWCollabToolsHaveWorkedWith', 'NEWCollabToolsWantToWorkWith',\n",
    "       'OpSysPersonal use', 'OpSysProfessional use',\n",
    "       'OfficeStackAsyncHaveWorkedWith', 'OfficeStackAsyncWantToWorkWith',\n",
    "       'OfficeStackSyncHaveWorkedWith', 'OfficeStackSyncWantToWorkWith','NEWSOSites',\n",
    "       'SOVisitFreq', 'SOAccount', 'SOPartFreq', 'SOComm', 'SOAI', 'AISelect',\n",
    "       'AISent', 'AIAcc', 'AIBen','Unnamed: 0','MainBranch',\n",
    "       'LearnCodeOnline', 'LearnCodeCoursesCert', 'YearsCode', 'YearsCodePro', 'AISearchHaveWorkedWith',\n",
    "       'AISearchWantToWorkWith', 'AIDevHaveWorkedWith', 'AIDevWantToWorkWith',\n",
    "       'AIToolInterested in Using', 'AIToolCurrently Using',\n",
    "       'AIToolNot interested in Using', 'AINextVery different',\n",
    "       'AINextNeither different nor similar', 'AINextSomewhat similar',\n",
    "       'AINextVery similar', 'AINextSomewhat different', 'TBranch', 'ICorPM',\n",
    "       'WorkExp', 'Knowledge_1', 'Knowledge_2', 'Knowledge_3', 'Knowledge_4',\n",
    "       'Knowledge_5', 'Knowledge_6', 'Knowledge_7', 'Knowledge_8',\n",
    "       'Frequency_1', 'Frequency_2', 'Frequency_3', 'TimeSearching',\n",
    "       'TimeAnswering', 'SurveyLength','SurveyEase','CompTotal','ProfessionalTech', 'Industry'],axis=1)\n",
    "'''\n",
    "#df.to_csv('survey_results_public.csv',index=False)\n",
    "print(df.columns)\n",
    "\n"
   ]
  },
  {
   "cell_type": "code",
   "execution_count": 371,
   "metadata": {},
   "outputs": [],
   "source": [
    "#Importação e tratamento do dataset de linguagens de programação.\n",
    "lang = pd.read_csv('languages.csv')\n",
    "lang23 = lang[['LanguageHaveWorkedWith2023','LanguageWantToWorkWith2023']]\n",
    "a = lang23['LanguageWantToWorkWith2023'].dropna().str.split(';',expand=True).stack().reset_index(level=1, drop=True).value_counts().reset_index().rename(columns={\"index\": \"value\", 0: \"LanguageHaveWorkedWith2023\"})\n",
    "b = lang23['LanguageHaveWorkedWith2023'].dropna().str.split(';',expand=True).stack().reset_index(level=1, drop=True).value_counts().reset_index().rename(columns={\"index\": \"value\", 0: \"LanguageWantToWorkWith2023\"})\n",
    "merged_df23 = pd.merge(a, b, on=\"value\", how=\"outer\",suffixes=('_HaveWorkedWith2023', '_WantToWorkWith2023')).dropna()\n",
    "\n",
    "lang22 = lang[['LanguageHaveWorkedWith2022','LanguageWantToWorkWith2022']]\n",
    "a = lang22['LanguageWantToWorkWith2022'].dropna().str.split(';',expand=True).stack().reset_index(level=1, drop=True).value_counts().reset_index().rename(columns={\"index\": \"value\", 0: \"LanguageHaveWorkedWith2022\"})\n",
    "b = lang22['LanguageHaveWorkedWith2022'].dropna().str.split(';',expand=True).stack().reset_index(level=1, drop=True).value_counts().reset_index().rename(columns={\"index\": \"value\", 0: \"LanguageWantToWorkWith2022\"})\n",
    "merged_df22 = pd.merge(a, b, on=\"value\", how=\"outer\",suffixes=('_HaveWorkedWith2022', '_WantToWorkWith2022')).dropna()\n",
    "\n",
    "lang21 = lang[['LanguageHaveWorkedWith2021','LanguageWantToWorkWith2021']]\n",
    "a = lang21['LanguageWantToWorkWith2021'].dropna().str.split(';',expand=True).stack().reset_index(level=1, drop=True).value_counts().reset_index().rename(columns={\"index\": \"value\", 0: \"LanguageHaveWorkedWith2021\"})\n",
    "b = lang21['LanguageHaveWorkedWith2021'].dropna().str.split(';',expand=True).stack().reset_index(level=1, drop=True).value_counts().reset_index().rename(columns={\"index\": \"value\", 0: \"LanguageWantToWorkWith2021\"})\n",
    "merged_df21 = pd.merge(a, b, on=\"value\", how=\"outer\",suffixes=('_HaveWorkedWith2021', '_WantToWorkWith2021')).dropna()\n",
    "\n",
    "\n",
    "lang20 = lang[['LanguageHaveWorkedWith2020', 'LanguageWantToWorkWith2020']]\n",
    "a = lang20['LanguageWantToWorkWith2020'].dropna().str.split(';', expand=True).stack().reset_index(level=1, drop=True).value_counts().reset_index().rename(columns={\"index\": \"value\", 0: \"LanguageHaveWorkedWith2020\"})\n",
    "b = lang20['LanguageHaveWorkedWith2020'].dropna().str.split(';', expand=True).stack().reset_index(level=1, drop=True).value_counts().reset_index().rename(columns={\"index\": \"value\", 0: \"LanguageWantToWorkWith2020\"})\n",
    "merged_df20 = pd.merge(a, b, on=\"value\", how=\"outer\", suffixes=('_HaveWorkedWith2020', '_WantToWorkWith2020')).dropna()\n",
    "\n",
    "\n",
    "lang19 = lang[['LanguageHaveWorkedWith2019', 'LanguageWantToWorkWith2019']]\n",
    "a = lang19['LanguageWantToWorkWith2019'].dropna().str.split(';', expand=True).stack().reset_index(level=1, drop=True).value_counts().reset_index().rename(columns={\"index\": \"value\", 0: \"LanguageHaveWorkedWith2019\"})\n",
    "b = lang19['LanguageHaveWorkedWith2019'].dropna().str.split(';', expand=True).stack().reset_index(level=1, drop=True).value_counts().reset_index().rename(columns={\"index\": \"value\", 0: \"LanguageWantToWorkWith2019\"})\n",
    "merged_df19 = pd.merge(a, b, on=\"value\", how=\"outer\", suffixes=('_HaveWorkedWith2019', '_WantToWorkWith2019')).dropna()\n",
    "\n",
    "# Merge dos dataframes HaveWorkedWith e WantToWorkWith\n",
    "merged_df19_20 = pd.merge(merged_df19, merged_df20, on=\"value\", how=\"outer\").dropna()\n",
    "merged_df19_20_21 = pd.merge(merged_df19_20, merged_df21, on=\"value\", how=\"outer\").dropna()\n",
    "merged_df19_20_21_22 = pd.merge(merged_df19_20_21, merged_df22, on=\"value\", how=\"outer\").dropna()\n",
    "merged_all = pd.merge(merged_df19_20_21_22, merged_df23, on=\"value\", how=\"outer\").dropna()\n"
   ]
  },
  {
   "cell_type": "code",
   "execution_count": 373,
   "metadata": {},
   "outputs": [],
   "source": [
    "#Sort dos valores e uma separação em dois dataframes.\n",
    "merged_all[['value','count_WantToWorkWith2022','count_WantToWorkWith2023']]\n",
    "merged_all = merged_all.sort_values('count_HaveWorkedWith2023')[::-1].head(10)\n",
    "merged_all.set_index('value',inplace=True)\n",
    "wanttoworkwith = merged_all[['count_WantToWorkWith2019','count_WantToWorkWith2020','count_WantToWorkWith2021','count_WantToWorkWith2022','count_WantToWorkWith2023']]\n",
    "haveworkedwith = merged_all[['count_HaveWorkedWith2019','count_HaveWorkedWith2020','count_HaveWorkedWith2021','count_HaveWorkedWith2022','count_HaveWorkedWith2023',]]\n"
   ]
  },
  {
   "cell_type": "code",
   "execution_count": 386,
   "metadata": {},
   "outputs": [
    {
     "data": {
      "text/html": [
       "<div>\n",
       "<style scoped>\n",
       "    .dataframe tbody tr th:only-of-type {\n",
       "        vertical-align: middle;\n",
       "    }\n",
       "\n",
       "    .dataframe tbody tr th {\n",
       "        vertical-align: top;\n",
       "    }\n",
       "\n",
       "    .dataframe thead th {\n",
       "        text-align: right;\n",
       "    }\n",
       "</style>\n",
       "<table border=\"1\" class=\"dataframe\">\n",
       "  <thead>\n",
       "    <tr style=\"text-align: right;\">\n",
       "      <th></th>\n",
       "      <th>Languages</th>\n",
       "      <th>2019</th>\n",
       "      <th>2020</th>\n",
       "      <th>2021</th>\n",
       "      <th>2022</th>\n",
       "      <th>2023</th>\n",
       "      <th>2024_predicted</th>\n",
       "      <th>2025_predicted</th>\n",
       "      <th>2026_predicted</th>\n",
       "      <th>2027_predicted</th>\n",
       "      <th>2028_predicted</th>\n",
       "    </tr>\n",
       "  </thead>\n",
       "  <tbody>\n",
       "    <tr>\n",
       "      <th>0</th>\n",
       "      <td>JavaScript</td>\n",
       "      <td>56455</td>\n",
       "      <td>36292</td>\n",
       "      <td>49904</td>\n",
       "      <td>43881</td>\n",
       "      <td>51473</td>\n",
       "      <td>46888</td>\n",
       "      <td>46650</td>\n",
       "      <td>46413</td>\n",
       "      <td>46175</td>\n",
       "      <td>45938</td>\n",
       "    </tr>\n",
       "    <tr>\n",
       "      <th>1</th>\n",
       "      <td>Python</td>\n",
       "      <td>34761</td>\n",
       "      <td>23789</td>\n",
       "      <td>37371</td>\n",
       "      <td>32421</td>\n",
       "      <td>40336</td>\n",
       "      <td>39670</td>\n",
       "      <td>41648</td>\n",
       "      <td>43626</td>\n",
       "      <td>45604</td>\n",
       "      <td>47583</td>\n",
       "    </tr>\n",
       "    <tr>\n",
       "      <th>2</th>\n",
       "      <td>TypeScript</td>\n",
       "      <td>17752</td>\n",
       "      <td>13711</td>\n",
       "      <td>23300</td>\n",
       "      <td>23487</td>\n",
       "      <td>31746</td>\n",
       "      <td>33328</td>\n",
       "      <td>37104</td>\n",
       "      <td>40881</td>\n",
       "      <td>44657</td>\n",
       "      <td>48434</td>\n",
       "    </tr>\n",
       "    <tr>\n",
       "      <th>3</th>\n",
       "      <td>HTML/CSS</td>\n",
       "      <td>52851</td>\n",
       "      <td>33849</td>\n",
       "      <td>43197</td>\n",
       "      <td>37000</td>\n",
       "      <td>42979</td>\n",
       "      <td>36997</td>\n",
       "      <td>35338</td>\n",
       "      <td>33678</td>\n",
       "      <td>32019</td>\n",
       "      <td>30360</td>\n",
       "    </tr>\n",
       "    <tr>\n",
       "      <th>4</th>\n",
       "      <td>SQL</td>\n",
       "      <td>45291</td>\n",
       "      <td>29446</td>\n",
       "      <td>36167</td>\n",
       "      <td>33204</td>\n",
       "      <td>39478</td>\n",
       "      <td>34356</td>\n",
       "      <td>33569</td>\n",
       "      <td>32783</td>\n",
       "      <td>31996</td>\n",
       "      <td>31209</td>\n",
       "    </tr>\n",
       "    <tr>\n",
       "      <th>5</th>\n",
       "      <td>Rust</td>\n",
       "      <td>2719</td>\n",
       "      <td>2813</td>\n",
       "      <td>5597</td>\n",
       "      <td>6406</td>\n",
       "      <td>10929</td>\n",
       "      <td>11696</td>\n",
       "      <td>13698</td>\n",
       "      <td>15699</td>\n",
       "      <td>17700</td>\n",
       "      <td>19701</td>\n",
       "    </tr>\n",
       "    <tr>\n",
       "      <th>6</th>\n",
       "      <td>C#</td>\n",
       "      <td>25786</td>\n",
       "      <td>16826</td>\n",
       "      <td>21235</td>\n",
       "      <td>18664</td>\n",
       "      <td>22200</td>\n",
       "      <td>19342</td>\n",
       "      <td>18808</td>\n",
       "      <td>18275</td>\n",
       "      <td>17741</td>\n",
       "      <td>17208</td>\n",
       "    </tr>\n",
       "    <tr>\n",
       "      <th>7</th>\n",
       "      <td>Go</td>\n",
       "      <td>6900</td>\n",
       "      <td>4757</td>\n",
       "      <td>7394</td>\n",
       "      <td>7570</td>\n",
       "      <td>10866</td>\n",
       "      <td>10720</td>\n",
       "      <td>11795</td>\n",
       "      <td>12869</td>\n",
       "      <td>13944</td>\n",
       "      <td>15018</td>\n",
       "    </tr>\n",
       "    <tr>\n",
       "      <th>8</th>\n",
       "      <td>Java</td>\n",
       "      <td>34139</td>\n",
       "      <td>21578</td>\n",
       "      <td>27099</td>\n",
       "      <td>22310</td>\n",
       "      <td>24793</td>\n",
       "      <td>20595</td>\n",
       "      <td>18799</td>\n",
       "      <td>17003</td>\n",
       "      <td>15207</td>\n",
       "      <td>13411</td>\n",
       "    </tr>\n",
       "    <tr>\n",
       "      <th>9</th>\n",
       "      <td>C++</td>\n",
       "      <td>19415</td>\n",
       "      <td>12705</td>\n",
       "      <td>18656</td>\n",
       "      <td>15091</td>\n",
       "      <td>18260</td>\n",
       "      <td>16848</td>\n",
       "      <td>16855</td>\n",
       "      <td>16863</td>\n",
       "      <td>16871</td>\n",
       "      <td>16878</td>\n",
       "    </tr>\n",
       "  </tbody>\n",
       "</table>\n",
       "</div>"
      ],
      "text/plain": [
       "    Languages   2019   2020   2021   2022   2023  2024_predicted  \\\n",
       "0  JavaScript  56455  36292  49904  43881  51473           46888   \n",
       "1      Python  34761  23789  37371  32421  40336           39670   \n",
       "2  TypeScript  17752  13711  23300  23487  31746           33328   \n",
       "3    HTML/CSS  52851  33849  43197  37000  42979           36997   \n",
       "4         SQL  45291  29446  36167  33204  39478           34356   \n",
       "5        Rust   2719   2813   5597   6406  10929           11696   \n",
       "6          C#  25786  16826  21235  18664  22200           19342   \n",
       "7          Go   6900   4757   7394   7570  10866           10720   \n",
       "8        Java  34139  21578  27099  22310  24793           20595   \n",
       "9         C++  19415  12705  18656  15091  18260           16848   \n",
       "\n",
       "   2025_predicted  2026_predicted  2027_predicted  2028_predicted  \n",
       "0           46650           46413           46175           45938  \n",
       "1           41648           43626           45604           47583  \n",
       "2           37104           40881           44657           48434  \n",
       "3           35338           33678           32019           30360  \n",
       "4           33569           32783           31996           31209  \n",
       "5           13698           15699           17700           19701  \n",
       "6           18808           18275           17741           17208  \n",
       "7           11795           12869           13944           15018  \n",
       "8           18799           17003           15207           13411  \n",
       "9           16855           16863           16871           16878  "
      ]
     },
     "execution_count": 386,
     "metadata": {},
     "output_type": "execute_result"
    }
   ],
   "source": [
    "#Limpar dados para criação de modelo de Machine Learning\n",
    "wanttoworkwith.columns = [2019,2020,2021,2022,2023]\n",
    "wanttoworkwith_transpose = wanttoworkwith.T.reset_index()\n",
    "wanttoworkwith_transpose = wanttoworkwith_transpose.rename(columns={'index': 'Year'})\n",
    "model = LinearRegression()\n",
    "X = wanttoworkwith_transpose[['Year']].values\n",
    "\n",
    "years = [2024, 2025, 2026, 2027, 2028]\n",
    "wanttoworkwith_predict = pd.DataFrame()\n",
    "#Execução do codigo de ML para previsão de valores\n",
    "for year in years:\n",
    "    data = []\n",
    "    for language in wanttoworkwith_transpose.columns[1:]:\n",
    "        y = wanttoworkwith_transpose[language].values\n",
    "        model.fit(X, y)\n",
    "        prediction = model.predict([[year]])\n",
    "        data.append(prediction[0])  \n",
    "    wanttoworkwith_predict[f'{year}'] = data\n",
    "    \n",
    "#Tratamento dos dados para colocar em dataframe e salvar em um .csv\n",
    "wtww_noindex = wanttoworkwith.reset_index(drop=True)\n",
    "wanttoworkwith_result = pd.concat([wtww_noindex,wanttoworkwith_predict],axis=1)\n",
    "wanttoworkwith_result = wanttoworkwith_result.astype(int)\n",
    "index = wanttoworkwith.reset_index().value\n",
    "wanttoworkwith_result = wanttoworkwith_result.set_index(index)\n",
    "wanttoworkwith_result = wanttoworkwith_result.reset_index(drop=False).rename(columns={'value': 'Languages'})\n",
    "\n",
    "#wanttoworkwith_result.to_csv('wanttoworkwith_predicted.csv',index=False)\n"
   ]
  },
  {
   "cell_type": "code",
   "execution_count": 385,
   "metadata": {},
   "outputs": [
    {
     "data": {
      "text/html": [
       "<div>\n",
       "<style scoped>\n",
       "    .dataframe tbody tr th:only-of-type {\n",
       "        vertical-align: middle;\n",
       "    }\n",
       "\n",
       "    .dataframe tbody tr th {\n",
       "        vertical-align: top;\n",
       "    }\n",
       "\n",
       "    .dataframe thead th {\n",
       "        text-align: right;\n",
       "    }\n",
       "</style>\n",
       "<table border=\"1\" class=\"dataframe\">\n",
       "  <thead>\n",
       "    <tr style=\"text-align: right;\">\n",
       "      <th></th>\n",
       "      <th>Languages</th>\n",
       "      <th>2019</th>\n",
       "      <th>2020</th>\n",
       "      <th>2021</th>\n",
       "      <th>2022</th>\n",
       "      <th>2023</th>\n",
       "      <th>2024_predicted</th>\n",
       "      <th>2025_predicted</th>\n",
       "      <th>2026_predicted</th>\n",
       "      <th>2027_predicted</th>\n",
       "      <th>2028_predicted</th>\n",
       "    </tr>\n",
       "  </thead>\n",
       "  <tbody>\n",
       "    <tr>\n",
       "      <th>0</th>\n",
       "      <td>JavaScript</td>\n",
       "      <td>44428</td>\n",
       "      <td>25995</td>\n",
       "      <td>37008</td>\n",
       "      <td>31551</td>\n",
       "      <td>34986</td>\n",
       "      <td>30795</td>\n",
       "      <td>29462</td>\n",
       "      <td>28129</td>\n",
       "      <td>26796</td>\n",
       "      <td>25464</td>\n",
       "    </tr>\n",
       "    <tr>\n",
       "      <th>1</th>\n",
       "      <td>Python</td>\n",
       "      <td>39720</td>\n",
       "      <td>26478</td>\n",
       "      <td>34929</td>\n",
       "      <td>29350</td>\n",
       "      <td>34715</td>\n",
       "      <td>30896</td>\n",
       "      <td>30183</td>\n",
       "      <td>29469</td>\n",
       "      <td>28755</td>\n",
       "      <td>28041</td>\n",
       "    </tr>\n",
       "    <tr>\n",
       "      <th>2</th>\n",
       "      <td>TypeScript</td>\n",
       "      <td>23640</td>\n",
       "      <td>17099</td>\n",
       "      <td>26905</td>\n",
       "      <td>26050</td>\n",
       "      <td>32256</td>\n",
       "      <td>33044</td>\n",
       "      <td>35663</td>\n",
       "      <td>38281</td>\n",
       "      <td>40899</td>\n",
       "      <td>43518</td>\n",
       "    </tr>\n",
       "    <tr>\n",
       "      <th>3</th>\n",
       "      <td>HTML/CSS</td>\n",
       "      <td>36389</td>\n",
       "      <td>20601</td>\n",
       "      <td>29353</td>\n",
       "      <td>25423</td>\n",
       "      <td>29928</td>\n",
       "      <td>25908</td>\n",
       "      <td>25098</td>\n",
       "      <td>24288</td>\n",
       "      <td>23478</td>\n",
       "      <td>22668</td>\n",
       "    </tr>\n",
       "    <tr>\n",
       "      <th>4</th>\n",
       "      <td>SQL</td>\n",
       "      <td>33349</td>\n",
       "      <td>19854</td>\n",
       "      <td>26631</td>\n",
       "      <td>24804</td>\n",
       "      <td>29598</td>\n",
       "      <td>26081</td>\n",
       "      <td>25826</td>\n",
       "      <td>25571</td>\n",
       "      <td>25316</td>\n",
       "      <td>25060</td>\n",
       "    </tr>\n",
       "    <tr>\n",
       "      <th>5</th>\n",
       "      <td>Rust</td>\n",
       "      <td>10463</td>\n",
       "      <td>10528</td>\n",
       "      <td>15865</td>\n",
       "      <td>17113</td>\n",
       "      <td>26710</td>\n",
       "      <td>27859</td>\n",
       "      <td>31767</td>\n",
       "      <td>35675</td>\n",
       "      <td>39583</td>\n",
       "      <td>43491</td>\n",
       "    </tr>\n",
       "    <tr>\n",
       "      <th>6</th>\n",
       "      <td>C#</td>\n",
       "      <td>22300</td>\n",
       "      <td>13589</td>\n",
       "      <td>17999</td>\n",
       "      <td>15681</td>\n",
       "      <td>18593</td>\n",
       "      <td>16035</td>\n",
       "      <td>15503</td>\n",
       "      <td>14971</td>\n",
       "      <td>14439</td>\n",
       "      <td>13907</td>\n",
       "    </tr>\n",
       "    <tr>\n",
       "      <th>7</th>\n",
       "      <td>Go</td>\n",
       "      <td>16995</td>\n",
       "      <td>12566</td>\n",
       "      <td>15788</td>\n",
       "      <td>15500</td>\n",
       "      <td>17993</td>\n",
       "      <td>17247</td>\n",
       "      <td>17740</td>\n",
       "      <td>18233</td>\n",
       "      <td>18726</td>\n",
       "      <td>19219</td>\n",
       "    </tr>\n",
       "    <tr>\n",
       "      <th>8</th>\n",
       "      <td>Java</td>\n",
       "      <td>23259</td>\n",
       "      <td>13126</td>\n",
       "      <td>17222</td>\n",
       "      <td>13345</td>\n",
       "      <td>14384</td>\n",
       "      <td>11007</td>\n",
       "      <td>9254</td>\n",
       "      <td>7501</td>\n",
       "      <td>5748</td>\n",
       "      <td>3995</td>\n",
       "    </tr>\n",
       "    <tr>\n",
       "      <th>9</th>\n",
       "      <td>C++</td>\n",
       "      <td>16681</td>\n",
       "      <td>9667</td>\n",
       "      <td>15249</td>\n",
       "      <td>11896</td>\n",
       "      <td>14231</td>\n",
       "      <td>12743</td>\n",
       "      <td>12476</td>\n",
       "      <td>12209</td>\n",
       "      <td>11942</td>\n",
       "      <td>11675</td>\n",
       "    </tr>\n",
       "  </tbody>\n",
       "</table>\n",
       "</div>"
      ],
      "text/plain": [
       "    Languages   2019   2020   2021   2022   2023  2024_predicted  \\\n",
       "0  JavaScript  44428  25995  37008  31551  34986           30795   \n",
       "1      Python  39720  26478  34929  29350  34715           30896   \n",
       "2  TypeScript  23640  17099  26905  26050  32256           33044   \n",
       "3    HTML/CSS  36389  20601  29353  25423  29928           25908   \n",
       "4         SQL  33349  19854  26631  24804  29598           26081   \n",
       "5        Rust  10463  10528  15865  17113  26710           27859   \n",
       "6          C#  22300  13589  17999  15681  18593           16035   \n",
       "7          Go  16995  12566  15788  15500  17993           17247   \n",
       "8        Java  23259  13126  17222  13345  14384           11007   \n",
       "9         C++  16681   9667  15249  11896  14231           12743   \n",
       "\n",
       "   2025_predicted  2026_predicted  2027_predicted  2028_predicted  \n",
       "0           29462           28129           26796           25464  \n",
       "1           30183           29469           28755           28041  \n",
       "2           35663           38281           40899           43518  \n",
       "3           25098           24288           23478           22668  \n",
       "4           25826           25571           25316           25060  \n",
       "5           31767           35675           39583           43491  \n",
       "6           15503           14971           14439           13907  \n",
       "7           17740           18233           18726           19219  \n",
       "8            9254            7501            5748            3995  \n",
       "9           12476           12209           11942           11675  "
      ]
     },
     "execution_count": 385,
     "metadata": {},
     "output_type": "execute_result"
    }
   ],
   "source": [
    "#Execução dos mesmos comandos no dataframe haveworkedwith\n",
    "haveworkedwith.columns = [2019,2020,2021,2022,2023]\n",
    "haveworkedwith_transpose = haveworkedwith.T.reset_index()\n",
    "haveworkedwith_transpose = haveworkedwith_transpose.rename(columns={'index': 'Year'})\n",
    "model = LinearRegression()\n",
    "X = haveworkedwith_transpose[['Year']].values\n",
    "\n",
    "years = [2024, 2025, 2026, 2027, 2028]\n",
    "haveworkedwith_predict = pd.DataFrame()\n",
    "for year in years:\n",
    "    data = []\n",
    "    for language in haveworkedwith_transpose.columns[1:]:\n",
    "        y = haveworkedwith_transpose[language].values\n",
    "        model.fit(X, y)\n",
    "        prediction = model.predict([[year]])\n",
    "        data.append(prediction[0])  \n",
    "    haveworkedwith_predict[f'{year}'] = data\n",
    "\n",
    "hww_noindex = haveworkedwith.reset_index(drop=True)\n",
    "haveworkedwith_result = pd.concat([hww_noindex,haveworkedwith_predict],axis=1)\n",
    "haveworkedwith_result = haveworkedwith_result.astype(int)\n",
    "index = haveworkedwith.reset_index().value\n",
    "haveworkedwith_result = haveworkedwith_result.set_index(index)\n",
    "haveworkedwith_result = haveworkedwith_result.reset_index(drop=False).rename(columns={'value': 'Languages'})\n",
    "\n",
    "#haveworkedwith_result.to_csv('haveworkedwith_predicted.csv',index=False)\n"
   ]
  },
  {
   "cell_type": "code",
   "execution_count": 376,
   "metadata": {},
   "outputs": [
    {
     "data": {
      "image/png": "[encoded data removed]",
      "text/plain": [
       "<Figure size 640x480 with 1 Axes>"
      ]
     },
     "metadata": {},
     "output_type": "display_data"
    }
   ],
   "source": [
    "#Sort dos dados e obtendo top3 para execução de um plot.\n",
    "haveworkedwith_result_sorted = haveworkedwith_result.sort_values(by='2028', ascending=False)\n",
    "\n",
    "top_3_languages = haveworkedwith_result_sorted.head(3)\n",
    "\n",
    "top_3_languages = top_3_languages.set_index('Languages')\n",
    "top_3_languages = top_3_languages.T\n",
    "top_3_languages = top_3_languages.rename_axis('Years').reset_index()\n",
    "top_3_languages = top_3_languages.reset_index(drop=True)\n",
    "\n",
    "plt.xlabel(\"Years\")\n",
    "plt.ylabel(\"Amount\")\n",
    "plt.title(\"Top 3 Languages Have Worked With Per Year\")\n",
    "plt.plot(top_3_languages['Years'], top_3_languages['TypeScript'], label=\"TypeScript\")\n",
    "plt.plot(top_3_languages['Years'], top_3_languages['Rust'], label=\"Rust\")\n",
    "plt.plot(top_3_languages['Years'], top_3_languages['Python'], label=\"Python\")\n",
    "\n",
    "plt.legend(shadow=True,fontsize=\"small\")\n",
    "plt.show()"
   ]
  },
  {
   "cell_type": "code",
   "execution_count": 377,
   "metadata": {},
   "outputs": [
    {
     "data": {
      "image/png": "[encoded data removed]",
      "text/plain": [
       "<Figure size 640x480 with 1 Axes>"
      ]
     },
     "metadata": {},
     "output_type": "display_data"
    }
   ],
   "source": [
    "#Sort dos dados e obtendo top3 para execução de um plot.\n",
    "wanttoworkwith_resultwith_result_sorted = wanttoworkwith_result.sort_values(by='2028', ascending=False)\n",
    "\n",
    "top_3_languages = wanttoworkwith_resultwith_result_sorted.head(3)\n",
    "\n",
    "top_3_languages = top_3_languages.set_index('Languages')\n",
    "top_3_languages = top_3_languages.T\n",
    "top_3_languages = top_3_languages.rename_axis('Years').reset_index()\n",
    "top_3_languages = top_3_languages.reset_index(drop=True)\n",
    "\n",
    "\n",
    "plt.xlabel(\"Years\")\n",
    "plt.ylabel(\"Amount\")\n",
    "plt.title(\"Top 3 Languages Want To worked With Per Year\")\n",
    "plt.plot(top_3_languages['Years'], top_3_languages['TypeScript'], label=\"TypeScript\")\n",
    "plt.plot(top_3_languages['Years'], top_3_languages['JavaScript'], label=\"JavaScript\")\n",
    "plt.plot(top_3_languages['Years'], top_3_languages['Python'], label=\"Python\")\n",
    "\n",
    "plt.legend(shadow=True,fontsize=\"small\")\n",
    "plt.show()\n"
   ]
  },
  {
   "cell_type": "code",
   "execution_count": 382,
   "metadata": {},
   "outputs": [
    {
     "data": {
      "image/png": "[encoded data removed]",
      "text/plain": [
       "<Figure size 640x480 with 1 Axes>"
      ]
     },
     "metadata": {},
     "output_type": "display_data"
    }
   ],
   "source": [
    "#Separando Paises e salarios dropando nan\n",
    "ConvertedCompYearly = df[['Country','ConvertedCompYearly']].dropna()\n",
    "ConvertedCompYearly = ConvertedCompYearly[(ConvertedCompYearly['ConvertedCompYearly'] > 13000.00) & (ConvertedCompYearly['ConvertedCompYearly'] < 1000000.00)]\n",
    "\n",
    "#Fazendo groupby e fazend o sort da media\n",
    "ConvertedCompYearly = ConvertedCompYearly.groupby(\"Country\")\n",
    "ConvertedCompYearly = ConvertedCompYearly.mean()\n",
    "ConvertedCompYearly = ConvertedCompYearly.sort_values(by='ConvertedCompYearly')[::-1]\n",
    "#Ajuste nos dados para melhor vizualização\n",
    "ConvertedCompYearly['ConvertedCompYearly'] = ConvertedCompYearly['ConvertedCompYearly'] - 80000\n",
    "\n",
    "\n",
    "#Plotagem dos dados\n",
    "ConvertedCompYearly.head(10).plot(kind='bar', legend=False, bottom=80000)\n",
    "plt.xlabel('Country')\n",
    "plt.ylabel('Average ConvertedCompYearly')\n",
    "plt.title('Top 10 Countries by Average ConvertedCompYearly')\n",
    "plt.xticks(rotation=45, ha='right')\n",
    "plt.tight_layout()\n",
    "plt.show()"
   ]
  },
  {
   "cell_type": "code",
   "execution_count": 379,
   "metadata": {},
   "outputs": [
    {
     "data": {
      "application/vnd.plotly.v1+json": {
       "config": {
        "plotlyServerURL": "https://plot.ly"
       },
       "data": [
        {
         "labels": [
          "Remote",
          "Hybrid",
          "In-person"
         ],
         "textfont": {
          "color": "ivory",
          "size": 20
         },
         "textinfo": "value",
         "texttemplate": "%{value:$,.2s}",
         "type": "funnelarea",
         "values": [
          105442.3284292514,
          90452.02563463169,
          68505.5036266162
         ]
        }
       ],
       "layout": {
        "font": {
         "color": "black"
        },
        "height": 400,
        "template": {
         "data": {
          "bar": [
           {
            "error_x": {
             "color": "#2a3f5f"
            },
            "error_y": {
             "color": "#2a3f5f"
            },
            "marker": {
             "line": {
              "color": "#E5ECF6",
              "width": 0.5
             },
             "pattern": {
              "fillmode": "overlay",
              "size": 10,
              "solidity": 0.2
             }
            },
            "type": "bar"
           }
          ],
          "barpolar": [
           {
            "marker": {
             "line": {
              "color": "#E5ECF6",
              "width": 0.5
             },
             "pattern": {
              "fillmode": "overlay",
              "size": 10,
              "solidity": 0.2
             }
            },
            "type": "barpolar"
           }
          ],
          "carpet": [
           {
            "aaxis": {
             "endlinecolor": "#2a3f5f",
             "gridcolor": "white",
             "linecolor": "white",
             "minorgridcolor": "white",
             "startlinecolor": "#2a3f5f"
            },
            "baxis": {
             "endlinecolor": "#2a3f5f",
             "gridcolor": "white",
             "linecolor": "white",
             "minorgridcolor": "white",
             "startlinecolor": "#2a3f5f"
            },
            "type": "carpet"
           }
          ],
          "choropleth": [
           {
            "colorbar": {
             "outlinewidth": 0,
             "ticks": ""
            },
            "type": "choropleth"
           }
          ],
          "contour": [
           {
            "colorbar": {
             "outlinewidth": 0,
             "ticks": ""
            },
            "colorscale": [
             [
              0,
              "#0d0887"
             ],
             [
              0.1111111111111111,
              "#46039f"
             ],
             [
              0.2222222222222222,
              "#7201a8"
             ],
             [
              0.3333333333333333,
              "#9c179e"
             ],
             [
              0.4444444444444444,
              "#bd3786"
             ],
             [
              0.5555555555555556,
              "#d8576b"
             ],
             [
              0.6666666666666666,
              "#ed7953"
             ],
             [
              0.7777777777777778,
              "#fb9f3a"
             ],
             [
              0.8888888888888888,
              "#fdca26"
             ],
             [
              1,
              "#f0f921"
             ]
            ],
            "type": "contour"
           }
          ],
          "contourcarpet": [
           {
            "colorbar": {
             "outlinewidth": 0,
             "ticks": ""
            },
            "type": "contourcarpet"
           }
          ],
          "heatmap": [
           {
            "colorbar": {
             "outlinewidth": 0,
             "ticks": ""
            },
            "colorscale": [
             [
              0,
              "#0d0887"
             ],
             [
              0.1111111111111111,
              "#46039f"
             ],
             [
              0.2222222222222222,
              "#7201a8"
             ],
             [
              0.3333333333333333,
              "#9c179e"
             ],
             [
              0.4444444444444444,
              "#bd3786"
             ],
             [
              0.5555555555555556,
              "#d8576b"
             ],
             [
              0.6666666666666666,
              "#ed7953"
             ],
             [
              0.7777777777777778,
              "#fb9f3a"
             ],
             [
              0.8888888888888888,
              "#fdca26"
             ],
             [
              1,
              "#f0f921"
             ]
            ],
            "type": "heatmap"
           }
          ],
          "heatmapgl": [
           {
            "colorbar": {
             "outlinewidth": 0,
             "ticks": ""
            },
            "colorscale": [
             [
              0,
              "#0d0887"
             ],
             [
              0.1111111111111111,
              "#46039f"
             ],
             [
              0.2222222222222222,
              "#7201a8"
             ],
             [
              0.3333333333333333,
              "#9c179e"
             ],
             [
              0.4444444444444444,
              "#bd3786"
             ],
             [
              0.5555555555555556,
              "#d8576b"
             ],
             [
              0.6666666666666666,
              "#ed7953"
             ],
             [
              0.7777777777777778,
              "#fb9f3a"
             ],
             [
              0.8888888888888888,
              "#fdca26"
             ],
             [
              1,
              "#f0f921"
             ]
            ],
            "type": "heatmapgl"
           }
          ],
          "histogram": [
           {
            "marker": {
             "pattern": {
              "fillmode": "overlay",
              "size": 10,
              "solidity": 0.2
             }
            },
            "type": "histogram"
           }
          ],
          "histogram2d": [
           {
            "colorbar": {
             "outlinewidth": 0,
             "ticks": ""
            },
            "colorscale": [
             [
              0,
              "#0d0887"
             ],
             [
              0.1111111111111111,
              "#46039f"
             ],
             [
              0.2222222222222222,
              "#7201a8"
             ],
             [
              0.3333333333333333,
              "#9c179e"
             ],
             [
              0.4444444444444444,
              "#bd3786"
             ],
             [
              0.5555555555555556,
              "#d8576b"
             ],
             [
              0.6666666666666666,
              "#ed7953"
             ],
             [
              0.7777777777777778,
              "#fb9f3a"
             ],
             [
              0.8888888888888888,
              "#fdca26"
             ],
             [
              1,
              "#f0f921"
             ]
            ],
            "type": "histogram2d"
           }
          ],
          "histogram2dcontour": [
           {
            "colorbar": {
             "outlinewidth": 0,
             "ticks": ""
            },
            "colorscale": [
             [
              0,
              "#0d0887"
             ],
             [
              0.1111111111111111,
              "#46039f"
             ],
             [
              0.2222222222222222,
              "#7201a8"
             ],
             [
              0.3333333333333333,
              "#9c179e"
             ],
             [
              0.4444444444444444,
              "#bd3786"
             ],
             [
              0.5555555555555556,
              "#d8576b"
             ],
             [
              0.6666666666666666,
              "#ed7953"
             ],
             [
              0.7777777777777778,
              "#fb9f3a"
             ],
             [
              0.8888888888888888,
              "#fdca26"
             ],
             [
              1,
              "#f0f921"
             ]
            ],
            "type": "histogram2dcontour"
           }
          ],
          "mesh3d": [
           {
            "colorbar": {
             "outlinewidth": 0,
             "ticks": ""
            },
            "type": "mesh3d"
           }
          ],
          "parcoords": [
           {
            "line": {
             "colorbar": {
              "outlinewidth": 0,
              "ticks": ""
             }
            },
            "type": "parcoords"
           }
          ],
          "pie": [
           {
            "automargin": true,
            "type": "pie"
           }
          ],
          "scatter": [
           {
            "fillpattern": {
             "fillmode": "overlay",
             "size": 10,
             "solidity": 0.2
            },
            "type": "scatter"
           }
          ],
          "scatter3d": [
           {
            "line": {
             "colorbar": {
              "outlinewidth": 0,
              "ticks": ""
             }
            },
            "marker": {
             "colorbar": {
              "outlinewidth": 0,
              "ticks": ""
             }
            },
            "type": "scatter3d"
           }
          ],
          "scattercarpet": [
           {
            "marker": {
             "colorbar": {
              "outlinewidth": 0,
              "ticks": ""
             }
            },
            "type": "scattercarpet"
           }
          ],
          "scattergeo": [
           {
            "marker": {
             "colorbar": {
              "outlinewidth": 0,
              "ticks": ""
             }
            },
            "type": "scattergeo"
           }
          ],
          "scattergl": [
           {
            "marker": {
             "colorbar": {
              "outlinewidth": 0,
              "ticks": ""
             }
            },
            "type": "scattergl"
           }
          ],
          "scattermapbox": [
           {
            "marker": {
             "colorbar": {
              "outlinewidth": 0,
              "ticks": ""
             }
            },
            "type": "scattermapbox"
           }
          ],
          "scatterpolar": [
           {
            "marker": {
             "colorbar": {
              "outlinewidth": 0,
              "ticks": ""
             }
            },
            "type": "scatterpolar"
           }
          ],
          "scatterpolargl": [
           {
            "marker": {
             "colorbar": {
              "outlinewidth": 0,
              "ticks": ""
             }
            },
            "type": "scatterpolargl"
           }
          ],
          "scatterternary": [
           {
            "marker": {
             "colorbar": {
              "outlinewidth": 0,
              "ticks": ""
             }
            },
            "type": "scatterternary"
           }
          ],
          "surface": [
           {
            "colorbar": {
             "outlinewidth": 0,
             "ticks": ""
            },
            "colorscale": [
             [
              0,
              "#0d0887"
             ],
             [
              0.1111111111111111,
              "#46039f"
             ],
             [
              0.2222222222222222,
              "#7201a8"
             ],
             [
              0.3333333333333333,
              "#9c179e"
             ],
             [
              0.4444444444444444,
              "#bd3786"
             ],
             [
              0.5555555555555556,
              "#d8576b"
             ],
             [
              0.6666666666666666,
              "#ed7953"
             ],
             [
              0.7777777777777778,
              "#fb9f3a"
             ],
             [
              0.8888888888888888,
              "#fdca26"
             ],
             [
              1,
              "#f0f921"
             ]
            ],
            "type": "surface"
           }
          ],
          "table": [
           {
            "cells": {
             "fill": {
              "color": "#EBF0F8"
             },
             "line": {
              "color": "white"
             }
            },
            "header": {
             "fill": {
              "color": "#C8D4E3"
             },
             "line": {
              "color": "white"
             }
            },
            "type": "table"
           }
          ]
         },
         "layout": {
          "annotationdefaults": {
           "arrowcolor": "#2a3f5f",
           "arrowhead": 0,
           "arrowwidth": 1
          },
          "autotypenumbers": "strict",
          "coloraxis": {
           "colorbar": {
            "outlinewidth": 0,
            "ticks": ""
           }
          },
          "colorscale": {
           "diverging": [
            [
             0,
             "#8e0152"
            ],
            [
             0.1,
             "#c51b7d"
            ],
            [
             0.2,
             "#de77ae"
            ],
            [
             0.3,
             "#f1b6da"
            ],
            [
             0.4,
             "#fde0ef"
            ],
            [
             0.5,
             "#f7f7f7"
            ],
            [
             0.6,
             "#e6f5d0"
            ],
            [
             0.7,
             "#b8e186"
            ],
            [
             0.8,
             "#7fbc41"
            ],
            [
             0.9,
             "#4d9221"
            ],
            [
             1,
             "#276419"
            ]
           ],
           "sequential": [
            [
             0,
             "#0d0887"
            ],
            [
             0.1111111111111111,
             "#46039f"
            ],
            [
             0.2222222222222222,
             "#7201a8"
            ],
            [
             0.3333333333333333,
             "#9c179e"
            ],
            [
             0.4444444444444444,
             "#bd3786"
            ],
            [
             0.5555555555555556,
             "#d8576b"
            ],
            [
             0.6666666666666666,
             "#ed7953"
            ],
            [
             0.7777777777777778,
             "#fb9f3a"
            ],
            [
             0.8888888888888888,
             "#fdca26"
            ],
            [
             1,
             "#f0f921"
            ]
           ],
           "sequentialminus": [
            [
             0,
             "#0d0887"
            ],
            [
             0.1111111111111111,
             "#46039f"
            ],
            [
             0.2222222222222222,
             "#7201a8"
            ],
            [
             0.3333333333333333,
             "#9c179e"
            ],
            [
             0.4444444444444444,
             "#bd3786"
            ],
            [
             0.5555555555555556,
             "#d8576b"
            ],
            [
             0.6666666666666666,
             "#ed7953"
            ],
            [
             0.7777777777777778,
             "#fb9f3a"
            ],
            [
             0.8888888888888888,
             "#fdca26"
            ],
            [
             1,
             "#f0f921"
            ]
           ]
          },
          "colorway": [
           "#636efa",
           "#EF553B",
           "#00cc96",
           "#ab63fa",
           "#FFA15A",
           "#19d3f3",
           "#FF6692",
           "#B6E880",
           "#FF97FF",
           "#FECB52"
          ],
          "font": {
           "color": "#2a3f5f"
          },
          "geo": {
           "bgcolor": "white",
           "lakecolor": "white",
           "landcolor": "#E5ECF6",
           "showlakes": true,
           "showland": true,
           "subunitcolor": "white"
          },
          "hoverlabel": {
           "align": "left"
          },
          "hovermode": "closest",
          "mapbox": {
           "style": "light"
          },
          "paper_bgcolor": "white",
          "plot_bgcolor": "#E5ECF6",
          "polar": {
           "angularaxis": {
            "gridcolor": "white",
            "linecolor": "white",
            "ticks": ""
           },
           "bgcolor": "#E5ECF6",
           "radialaxis": {
            "gridcolor": "white",
            "linecolor": "white",
            "ticks": ""
           }
          },
          "scene": {
           "xaxis": {
            "backgroundcolor": "#E5ECF6",
            "gridcolor": "white",
            "gridwidth": 2,
            "linecolor": "white",
            "showbackground": true,
            "ticks": "",
            "zerolinecolor": "white"
           },
           "yaxis": {
            "backgroundcolor": "#E5ECF6",
            "gridcolor": "white",
            "gridwidth": 2,
            "linecolor": "white",
            "showbackground": true,
            "ticks": "",
            "zerolinecolor": "white"
           },
           "zaxis": {
            "backgroundcolor": "#E5ECF6",
            "gridcolor": "white",
            "gridwidth": 2,
            "linecolor": "white",
            "showbackground": true,
            "ticks": "",
            "zerolinecolor": "white"
           }
          },
          "shapedefaults": {
           "line": {
            "color": "#2a3f5f"
           }
          },
          "ternary": {
           "aaxis": {
            "gridcolor": "white",
            "linecolor": "white",
            "ticks": ""
           },
           "baxis": {
            "gridcolor": "white",
            "linecolor": "white",
            "ticks": ""
           },
           "bgcolor": "#E5ECF6",
           "caxis": {
            "gridcolor": "white",
            "linecolor": "white",
            "ticks": ""
           }
          },
          "title": {
           "x": 0.05
          },
          "xaxis": {
           "automargin": true,
           "gridcolor": "white",
           "linecolor": "white",
           "ticks": "",
           "title": {
            "standoff": 15
           },
           "zerolinecolor": "white",
           "zerolinewidth": 2
          },
          "yaxis": {
           "automargin": true,
           "gridcolor": "white",
           "linecolor": "white",
           "ticks": "",
           "title": {
            "standoff": 15
           },
           "zerolinecolor": "white",
           "zerolinewidth": 2
          }
         }
        },
        "title": {
         "text": "Average Salary Based on RemoteWork",
         "x": 0.47,
         "y": 0.95
        },
        "width": 600
       }
      }
     },
     "metadata": {},
     "output_type": "display_data"
    }
   ],
   "source": [
    "# Separando RemoteWork e Salario do dataframe\n",
    "RemoteWork = df[['RemoteWork', 'ConvertedCompYearly']].dropna()\n",
    "#Tratamento dos dados\n",
    "RemoteWork = RemoteWork[(RemoteWork['ConvertedCompYearly'] > 1000.00) & (RemoteWork['ConvertedCompYearly'] < 1000000.00)]\n",
    "#Mudando nome para melhor vizualização\n",
    "RemoteWork.replace('Hybrid (some remote, some in-person)','Hybrid',inplace=True)\n",
    "RemoteWork = RemoteWork.groupby(\"RemoteWork\")\n",
    "RemoteWork = RemoteWork.mean()\n",
    "RemoteWork = RemoteWork.sort_values(by='ConvertedCompYearly')[::-1]\n",
    "RemoteWork = RemoteWork.reset_index()\n",
    "\n",
    "#Plotagem dos dados\n",
    "fig = go.Figure(go.Funnelarea(\n",
    "    labels = RemoteWork.RemoteWork,\n",
    "    values  = RemoteWork.ConvertedCompYearly,\n",
    "    textinfo = \"value\",\n",
    "    textfont_size=20,\n",
    "    texttemplate=\"%{value:$,.2s}\",\n",
    "    textfont=dict(color='ivory')))\n",
    "\n",
    "fig.update_layout(\n",
    "    title='Average Salary Based on RemoteWork',\n",
    "    height=400,  \n",
    "    width=600,\n",
    "    font=dict(color='black'),\n",
    "    title_x=0.47, \n",
    "    title_y=0.95  \n",
    ")\n",
    "fig.show()"
   ]
  },
  {
   "cell_type": "code",
   "execution_count": 380,
   "metadata": {},
   "outputs": [
    {
     "data": {
      "application/vnd.plotly.v1+json": {
       "config": {
        "plotlyServerURL": "https://plot.ly"
       },
       "data": [
        {
         "colorscale": [
          [
           0,
           "#0d0887"
          ],
          [
           0.1111111111111111,
           "#46039f"
          ],
          [
           0.2222222222222222,
           "#7201a8"
          ],
          [
           0.3333333333333333,
           "#9c179e"
          ],
          [
           0.4444444444444444,
           "#bd3786"
          ],
          [
           0.5555555555555556,
           "#d8576b"
          ],
          [
           0.6666666666666666,
           "#ed7953"
          ],
          [
           0.7777777777777778,
           "#fb9f3a"
          ],
          [
           0.8888888888888888,
           "#fdca26"
          ],
          [
           1,
           "#f0f921"
          ]
         ],
         "transpose": true,
         "type": "heatmap",
         "x": [
          "Average Compensation"
         ],
         "y": [
          "Something else",
          "Secundary school",
          "Associate degree (A.A., A.S., etc.)",
          "Primary/elementary school",
          "Some college/university study without earning a degree",
          "Master’s degree (M.A., M.S., M.Eng., MBA, etc.)",
          "Bachelor’s degree (B.A., B.S., B.Eng., etc.)",
          "Professional degree (JD, MD, Ph.D, Ed.D, etc.)"
         ],
         "z": [
          [
           68410.26501035197,
           71509.27011764706,
           87060.63231552162,
           87201,
           87939.4418018018,
           94908.69130636913,
           97412.66502685382,
           104634.57573073516
          ]
         ]
        }
       ],
       "layout": {
        "height": 400,
        "template": {
         "data": {
          "bar": [
           {
            "error_x": {
             "color": "#2a3f5f"
            },
            "error_y": {
             "color": "#2a3f5f"
            },
            "marker": {
             "line": {
              "color": "#E5ECF6",
              "width": 0.5
             },
             "pattern": {
              "fillmode": "overlay",
              "size": 10,
              "solidity": 0.2
             }
            },
            "type": "bar"
           }
          ],
          "barpolar": [
           {
            "marker": {
             "line": {
              "color": "#E5ECF6",
              "width": 0.5
             },
             "pattern": {
              "fillmode": "overlay",
              "size": 10,
              "solidity": 0.2
             }
            },
            "type": "barpolar"
           }
          ],
          "carpet": [
           {
            "aaxis": {
             "endlinecolor": "#2a3f5f",
             "gridcolor": "white",
             "linecolor": "white",
             "minorgridcolor": "white",
             "startlinecolor": "#2a3f5f"
            },
            "baxis": {
             "endlinecolor": "#2a3f5f",
             "gridcolor": "white",
             "linecolor": "white",
             "minorgridcolor": "white",
             "startlinecolor": "#2a3f5f"
            },
            "type": "carpet"
           }
          ],
          "choropleth": [
           {
            "colorbar": {
             "outlinewidth": 0,
             "ticks": ""
            },
            "type": "choropleth"
           }
          ],
          "contour": [
           {
            "colorbar": {
             "outlinewidth": 0,
             "ticks": ""
            },
            "colorscale": [
             [
              0,
              "#0d0887"
             ],
             [
              0.1111111111111111,
              "#46039f"
             ],
             [
              0.2222222222222222,
              "#7201a8"
             ],
             [
              0.3333333333333333,
              "#9c179e"
             ],
             [
              0.4444444444444444,
              "#bd3786"
             ],
             [
              0.5555555555555556,
              "#d8576b"
             ],
             [
              0.6666666666666666,
              "#ed7953"
             ],
             [
              0.7777777777777778,
              "#fb9f3a"
             ],
             [
              0.8888888888888888,
              "#fdca26"
             ],
             [
              1,
              "#f0f921"
             ]
            ],
            "type": "contour"
           }
          ],
          "contourcarpet": [
           {
            "colorbar": {
             "outlinewidth": 0,
             "ticks": ""
            },
            "type": "contourcarpet"
           }
          ],
          "heatmap": [
           {
            "colorbar": {
             "outlinewidth": 0,
             "ticks": ""
            },
            "colorscale": [
             [
              0,
              "#0d0887"
             ],
             [
              0.1111111111111111,
              "#46039f"
             ],
             [
              0.2222222222222222,
              "#7201a8"
             ],
             [
              0.3333333333333333,
              "#9c179e"
             ],
             [
              0.4444444444444444,
              "#bd3786"
             ],
             [
              0.5555555555555556,
              "#d8576b"
             ],
             [
              0.6666666666666666,
              "#ed7953"
             ],
             [
              0.7777777777777778,
              "#fb9f3a"
             ],
             [
              0.8888888888888888,
              "#fdca26"
             ],
             [
              1,
              "#f0f921"
             ]
            ],
            "type": "heatmap"
           }
          ],
          "heatmapgl": [
           {
            "colorbar": {
             "outlinewidth": 0,
             "ticks": ""
            },
            "colorscale": [
             [
              0,
              "#0d0887"
             ],
             [
              0.1111111111111111,
              "#46039f"
             ],
             [
              0.2222222222222222,
              "#7201a8"
             ],
             [
              0.3333333333333333,
              "#9c179e"
             ],
             [
              0.4444444444444444,
              "#bd3786"
             ],
             [
              0.5555555555555556,
              "#d8576b"
             ],
             [
              0.6666666666666666,
              "#ed7953"
             ],
             [
              0.7777777777777778,
              "#fb9f3a"
             ],
             [
              0.8888888888888888,
              "#fdca26"
             ],
             [
              1,
              "#f0f921"
             ]
            ],
            "type": "heatmapgl"
           }
          ],
          "histogram": [
           {
            "marker": {
             "pattern": {
              "fillmode": "overlay",
              "size": 10,
              "solidity": 0.2
             }
            },
            "type": "histogram"
           }
          ],
          "histogram2d": [
           {
            "colorbar": {
             "outlinewidth": 0,
             "ticks": ""
            },
            "colorscale": [
             [
              0,
              "#0d0887"
             ],
             [
              0.1111111111111111,
              "#46039f"
             ],
             [
              0.2222222222222222,
              "#7201a8"
             ],
             [
              0.3333333333333333,
              "#9c179e"
             ],
             [
              0.4444444444444444,
              "#bd3786"
             ],
             [
              0.5555555555555556,
              "#d8576b"
             ],
             [
              0.6666666666666666,
              "#ed7953"
             ],
             [
              0.7777777777777778,
              "#fb9f3a"
             ],
             [
              0.8888888888888888,
              "#fdca26"
             ],
             [
              1,
              "#f0f921"
             ]
            ],
            "type": "histogram2d"
           }
          ],
          "histogram2dcontour": [
           {
            "colorbar": {
             "outlinewidth": 0,
             "ticks": ""
            },
            "colorscale": [
             [
              0,
              "#0d0887"
             ],
             [
              0.1111111111111111,
              "#46039f"
             ],
             [
              0.2222222222222222,
              "#7201a8"
             ],
             [
              0.3333333333333333,
              "#9c179e"
             ],
             [
              0.4444444444444444,
              "#bd3786"
             ],
             [
              0.5555555555555556,
              "#d8576b"
             ],
             [
              0.6666666666666666,
              "#ed7953"
             ],
             [
              0.7777777777777778,
              "#fb9f3a"
             ],
             [
              0.8888888888888888,
              "#fdca26"
             ],
             [
              1,
              "#f0f921"
             ]
            ],
            "type": "histogram2dcontour"
           }
          ],
          "mesh3d": [
           {
            "colorbar": {
             "outlinewidth": 0,
             "ticks": ""
            },
            "type": "mesh3d"
           }
          ],
          "parcoords": [
           {
            "line": {
             "colorbar": {
              "outlinewidth": 0,
              "ticks": ""
             }
            },
            "type": "parcoords"
           }
          ],
          "pie": [
           {
            "automargin": true,
            "type": "pie"
           }
          ],
          "scatter": [
           {
            "fillpattern": {
             "fillmode": "overlay",
             "size": 10,
             "solidity": 0.2
            },
            "type": "scatter"
           }
          ],
          "scatter3d": [
           {
            "line": {
             "colorbar": {
              "outlinewidth": 0,
              "ticks": ""
             }
            },
            "marker": {
             "colorbar": {
              "outlinewidth": 0,
              "ticks": ""
             }
            },
            "type": "scatter3d"
           }
          ],
          "scattercarpet": [
           {
            "marker": {
             "colorbar": {
              "outlinewidth": 0,
              "ticks": ""
             }
            },
            "type": "scattercarpet"
           }
          ],
          "scattergeo": [
           {
            "marker": {
             "colorbar": {
              "outlinewidth": 0,
              "ticks": ""
             }
            },
            "type": "scattergeo"
           }
          ],
          "scattergl": [
           {
            "marker": {
             "colorbar": {
              "outlinewidth": 0,
              "ticks": ""
             }
            },
            "type": "scattergl"
           }
          ],
          "scattermapbox": [
           {
            "marker": {
             "colorbar": {
              "outlinewidth": 0,
              "ticks": ""
             }
            },
            "type": "scattermapbox"
           }
          ],
          "scatterpolar": [
           {
            "marker": {
             "colorbar": {
              "outlinewidth": 0,
              "ticks": ""
             }
            },
            "type": "scatterpolar"
           }
          ],
          "scatterpolargl": [
           {
            "marker": {
             "colorbar": {
              "outlinewidth": 0,
              "ticks": ""
             }
            },
            "type": "scatterpolargl"
           }
          ],
          "scatterternary": [
           {
            "marker": {
             "colorbar": {
              "outlinewidth": 0,
              "ticks": ""
             }
            },
            "type": "scatterternary"
           }
          ],
          "surface": [
           {
            "colorbar": {
             "outlinewidth": 0,
             "ticks": ""
            },
            "colorscale": [
             [
              0,
              "#0d0887"
             ],
             [
              0.1111111111111111,
              "#46039f"
             ],
             [
              0.2222222222222222,
              "#7201a8"
             ],
             [
              0.3333333333333333,
              "#9c179e"
             ],
             [
              0.4444444444444444,
              "#bd3786"
             ],
             [
              0.5555555555555556,
              "#d8576b"
             ],
             [
              0.6666666666666666,
              "#ed7953"
             ],
             [
              0.7777777777777778,
              "#fb9f3a"
             ],
             [
              0.8888888888888888,
              "#fdca26"
             ],
             [
              1,
              "#f0f921"
             ]
            ],
            "type": "surface"
           }
          ],
          "table": [
           {
            "cells": {
             "fill": {
              "color": "#EBF0F8"
             },
             "line": {
              "color": "white"
             }
            },
            "header": {
             "fill": {
              "color": "#C8D4E3"
             },
             "line": {
              "color": "white"
             }
            },
            "type": "table"
           }
          ]
         },
         "layout": {
          "annotationdefaults": {
           "arrowcolor": "#2a3f5f",
           "arrowhead": 0,
           "arrowwidth": 1
          },
          "autotypenumbers": "strict",
          "coloraxis": {
           "colorbar": {
            "outlinewidth": 0,
            "ticks": ""
           }
          },
          "colorscale": {
           "diverging": [
            [
             0,
             "#8e0152"
            ],
            [
             0.1,
             "#c51b7d"
            ],
            [
             0.2,
             "#de77ae"
            ],
            [
             0.3,
             "#f1b6da"
            ],
            [
             0.4,
             "#fde0ef"
            ],
            [
             0.5,
             "#f7f7f7"
            ],
            [
             0.6,
             "#e6f5d0"
            ],
            [
             0.7,
             "#b8e186"
            ],
            [
             0.8,
             "#7fbc41"
            ],
            [
             0.9,
             "#4d9221"
            ],
            [
             1,
             "#276419"
            ]
           ],
           "sequential": [
            [
             0,
             "#0d0887"
            ],
            [
             0.1111111111111111,
             "#46039f"
            ],
            [
             0.2222222222222222,
             "#7201a8"
            ],
            [
             0.3333333333333333,
             "#9c179e"
            ],
            [
             0.4444444444444444,
             "#bd3786"
            ],
            [
             0.5555555555555556,
             "#d8576b"
            ],
            [
             0.6666666666666666,
             "#ed7953"
            ],
            [
             0.7777777777777778,
             "#fb9f3a"
            ],
            [
             0.8888888888888888,
             "#fdca26"
            ],
            [
             1,
             "#f0f921"
            ]
           ],
           "sequentialminus": [
            [
             0,
             "#0d0887"
            ],
            [
             0.1111111111111111,
             "#46039f"
            ],
            [
             0.2222222222222222,
             "#7201a8"
            ],
            [
             0.3333333333333333,
             "#9c179e"
            ],
            [
             0.4444444444444444,
             "#bd3786"
            ],
            [
             0.5555555555555556,
             "#d8576b"
            ],
            [
             0.6666666666666666,
             "#ed7953"
            ],
            [
             0.7777777777777778,
             "#fb9f3a"
            ],
            [
             0.8888888888888888,
             "#fdca26"
            ],
            [
             1,
             "#f0f921"
            ]
           ]
          },
          "colorway": [
           "#636efa",
           "#EF553B",
           "#00cc96",
           "#ab63fa",
           "#FFA15A",
           "#19d3f3",
           "#FF6692",
           "#B6E880",
           "#FF97FF",
           "#FECB52"
          ],
          "font": {
           "color": "#2a3f5f"
          },
          "geo": {
           "bgcolor": "white",
           "lakecolor": "white",
           "landcolor": "#E5ECF6",
           "showlakes": true,
           "showland": true,
           "subunitcolor": "white"
          },
          "hoverlabel": {
           "align": "left"
          },
          "hovermode": "closest",
          "mapbox": {
           "style": "light"
          },
          "paper_bgcolor": "white",
          "plot_bgcolor": "#E5ECF6",
          "polar": {
           "angularaxis": {
            "gridcolor": "white",
            "linecolor": "white",
            "ticks": ""
           },
           "bgcolor": "#E5ECF6",
           "radialaxis": {
            "gridcolor": "white",
            "linecolor": "white",
            "ticks": ""
           }
          },
          "scene": {
           "xaxis": {
            "backgroundcolor": "#E5ECF6",
            "gridcolor": "white",
            "gridwidth": 2,
            "linecolor": "white",
            "showbackground": true,
            "ticks": "",
            "zerolinecolor": "white"
           },
           "yaxis": {
            "backgroundcolor": "#E5ECF6",
            "gridcolor": "white",
            "gridwidth": 2,
            "linecolor": "white",
            "showbackground": true,
            "ticks": "",
            "zerolinecolor": "white"
           },
           "zaxis": {
            "backgroundcolor": "#E5ECF6",
            "gridcolor": "white",
            "gridwidth": 2,
            "linecolor": "white",
            "showbackground": true,
            "ticks": "",
            "zerolinecolor": "white"
           }
          },
          "shapedefaults": {
           "line": {
            "color": "#2a3f5f"
           }
          },
          "ternary": {
           "aaxis": {
            "gridcolor": "white",
            "linecolor": "white",
            "ticks": ""
           },
           "baxis": {
            "gridcolor": "white",
            "linecolor": "white",
            "ticks": ""
           },
           "bgcolor": "#E5ECF6",
           "caxis": {
            "gridcolor": "white",
            "linecolor": "white",
            "ticks": ""
           }
          },
          "title": {
           "x": 0.05
          },
          "xaxis": {
           "automargin": true,
           "gridcolor": "white",
           "linecolor": "white",
           "ticks": "",
           "title": {
            "standoff": 15
           },
           "zerolinecolor": "white",
           "zerolinewidth": 2
          },
          "yaxis": {
           "automargin": true,
           "gridcolor": "white",
           "linecolor": "white",
           "ticks": "",
           "title": {
            "standoff": 15
           },
           "zerolinecolor": "white",
           "zerolinewidth": 2
          }
         }
        },
        "title": {
         "text": "Vertical Heatmap of Average Yearly Compensation by Education Level"
        },
        "width": 700,
        "xaxis": {
         "title": {
          "text": ""
         }
        },
        "yaxis": {
         "title": {
          "text": "Education Level"
         },
         "type": "category"
        }
       }
      }
     },
     "metadata": {},
     "output_type": "display_data"
    }
   ],
   "source": [
    "#Separando EdLevel e Salario\n",
    "EdLevel = df[['EdLevel',\"ConvertedCompYearly\"]].dropna()\n",
    "#Tratamento dos dados\n",
    "EdLevel = EdLevel[(EdLevel['ConvertedCompYearly'] > 1000.00) & (EdLevel['ConvertedCompYearly'] < 1000000.00)]\n",
    "EdLevel = EdLevel.groupby('EdLevel')\n",
    "EdLevel = EdLevel.mean()\n",
    "EdLevel = EdLevel.sort_values(by='ConvertedCompYearly')[::-1]\n",
    "EdLevel = EdLevel.reset_index()\n",
    "EdLevel.replace({'Secondary school (e.g. American high school, German Realschule or Gymnasium, etc.)':'Secundary school'},inplace=True)\n",
    "\n",
    "fig = go.Figure(data=go.Heatmap(\n",
    "                   z=EdLevel['ConvertedCompYearly'][::-1].to_numpy().reshape(1, -1),  #Reshape para coluna unica e revertendo ordem\n",
    "                   y=EdLevel.EdLevel[::-1],  \n",
    "                   x=['Average Compensation'],  \n",
    "                   colorscale='Plasma',  \n",
    "                   transpose=True))  \n",
    "\n",
    "fig.update_layout(\n",
    "    title='Vertical Heatmap of Average Yearly Compensation by Education Level',\n",
    "    yaxis_title='Education Level',\n",
    "    xaxis_title='',\n",
    "    yaxis={'type': 'category'},  # Treat y-axis as categorical data,\n",
    "    height=400,  \n",
    "    width=700\n",
    ")\n",
    "\n",
    "fig.show()"
   ]
  },
  {
   "cell_type": "code",
   "execution_count": 381,
   "metadata": {},
   "outputs": [
    {
     "data": {
      "image/png": "[encoded data removed]",
      "text/plain": [
       "<Figure size 1200x800 with 1 Axes>"
      ]
     },
     "metadata": {},
     "output_type": "display_data"
    }
   ],
   "source": [
    "# Selecionar Age e LearnCode\n",
    "LearnCode = df[['Age','LearnCode']].dropna()\n",
    "LearnCode = LearnCode[LearnCode['Age'] != 'Prefer not to say']\n",
    "\n",
    "array = []\n",
    "#separar itens\n",
    "for num, val in enumerate(LearnCode['LearnCode']):\n",
    "    split = val.split(';')\n",
    "    for item in split:\n",
    "        array.append([LearnCode['Age'].iloc[num], item])\n",
    "    \n",
    "#criar novo Df com array\n",
    "LearnCode = pd.DataFrame(array,columns=['Age', 'Learning Source'])\n",
    "\n",
    "#Separar top3 tipos de Learning source por idade\n",
    "counts = LearnCode.groupby(['Age', 'Learning Source']).size().reset_index(name='Count')\n",
    "with warnings.catch_warnings():\n",
    "    warnings.simplefilter(\"ignore\")\n",
    "    top3_per_age = counts.groupby('Age').apply(lambda group: group.nlargest(3, 'Count')).reset_index(drop=True)\n",
    "\n",
    "#Criação tabela pivot\n",
    "pivot_table = top3_per_age.pivot(index='Age', columns='Learning Source', values='Count').fillna(0)\n",
    "\n",
    "# Plotting\n",
    "fig, ax = plt.subplots(figsize=(12, 8))\n",
    "\n",
    "# Plot dos dados\n",
    "pivot_table.plot(kind='bar', stacked=True, ax=ax)\n",
    "\n",
    "ax.set_xlabel('Learning Source')\n",
    "ax.set_ylabel('Count')\n",
    "ax.set_title('Learning Sources Count for Each Age Group')\n",
    "\n",
    "plt.xticks(rotation=45, ha='right')\n",
    "plt.legend(title='Age Group', bbox_to_anchor=(1, 1), loc='upper left')\n",
    "plt.tight_layout()\n",
    "plt.show()"
   ]
  }
 ],
 "metadata": {
  "kernelspec": {
   "display_name": "Python 3",
   "language": "python",
   "name": "python3"
  },
  "language_info": {
   "codemirror_mode": {
    "name": "ipython",
    "version": 3
   },
   "file_extension": ".py",
   "mimetype": "text/x-python",
   "name": "python",
   "nbconvert_exporter": "python",
   "pygments_lexer": "ipython3",
   "version": "3.12.1"
  }
 },
 "nbformat": 4,
 "nbformat_minor": 2
}
