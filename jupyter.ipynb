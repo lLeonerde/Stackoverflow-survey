{
 "cells": [
  {
   "cell_type": "code",
   "execution_count": 1,
   "metadata": {},
   "outputs": [
    {
     "name": "stderr",
     "output_type": "stream",
     "text": [
      "C:\\Users\\Leo\\AppData\\Local\\Temp\\ipykernel_16480\\8753792.py:1: DeprecationWarning: \n",
      "Pyarrow will become a required dependency of pandas in the next major release of pandas (pandas 3.0),\n",
      "(to allow more performant data types, such as the Arrow string type, and better interoperability with other libraries)\n",
      "but was not found to be installed on your system.\n",
      "If this would cause problems for you,\n",
      "please provide us feedback at https://github.com/pandas-dev/pandas/issues/54466\n",
      "        \n",
      "  import pandas as pd\n"
     ]
    }
   ],
   "source": [
    "import pandas as pd\n",
    "import matplotlib.pyplot as plt\n",
    "df = pd.read_csv(\"survey_results_public.csv\")\n",
    "pd.set_option('display.max_row', 500)\n",
    "df = df.drop(columns=['ResponseId','CodingActivities','Employment','OrgSize','TechList','PurchaseInfluence','BuyNewTool','PlatformHaveWorkedWith','PlatformWantToWorkWith','Q120','DatabaseHaveWorkedWith','DatabaseWantToWorkWith','WebframeHaveWorkedWith','WebframeWantToWorkWith',\n",
    "       'MiscTechHaveWorkedWith', 'MiscTechWantToWorkWith',\n",
    "       'ToolsTechHaveWorkedWith', 'ToolsTechWantToWorkWith',\n",
    "       'NEWCollabToolsHaveWorkedWith', 'NEWCollabToolsWantToWorkWith',\n",
    "       'OpSysPersonal use', 'OpSysProfessional use',\n",
    "       'OfficeStackAsyncHaveWorkedWith', 'OfficeStackAsyncWantToWorkWith',\n",
    "       'OfficeStackSyncHaveWorkedWith', 'OfficeStackSyncWantToWorkWith','NEWSOSites',\n",
    "       'SOVisitFreq', 'SOAccount', 'SOPartFreq', 'SOComm', 'SOAI', 'AISelect',\n",
    "       'AISent', 'AIAcc', 'AIBen'],axis=1)\n",
    "\n",
    "\n",
    "''' Não uteis\n",
    "    CodingActivities\n",
    "    Employment\n",
    "    OrgSize\n",
    "    TechList\n",
    "    PurchaseInfluence\n",
    "    BuyNewTool\n",
    "    Currency\n",
    "'''\n",
    "''' Kinda\n",
    "    LearnCode\n",
    "    LearnCodeOnline\n",
    "    LearnCodeCoursesCert\n",
    "    YearsCode\n",
    "    DevType\n",
    "    LanguageHaveWorkedWith\n",
    "    AISearchHaveWorkedWith\n",
    "    WorkExp\n",
    "    TimeAnswering\n",
    "'''\n",
    "''' Uteis\n",
    "    EdLevel\n",
    "    RemoteWork\n",
    "    Country\n",
    "    ConvertedCompYearly\n",
    "'''\n",
    "df.to_csv(\"new.csv\",header=False)"
   ]
  },
  {
   "cell_type": "code",
   "execution_count": null,
   "metadata": {},
   "outputs": [],
   "source": [
    "test = df.LanguageWantToWorkWith.dropna()\n",
    "array = []\n",
    "for val in test:\n",
    "    temp = val.split(\";\")\n",
    "    for item in temp:\n",
    "        array.append(item)\n",
    "dfLTWW = pd.DataFrame(array)\n",
    "dfLTWW.value_counts(normalize=True).round(4)*100\n",
    "\n",
    "test2 = df.LanguageHaveWorkedWith.dropna()\n",
    "array2 = []\n",
    "for val in test2:\n",
    "    temp = val.split(\";\")\n",
    "    for item in temp:\n",
    "        array2.append(item)\n",
    "\n"
   ]
  },
  {
   "cell_type": "code",
   "execution_count": null,
   "metadata": {},
   "outputs": [],
   "source": [
    "dffinal = pd.DataFrame(pd.DataFrame(array).value_counts())\n",
    "dfmerge = pd.DataFrame(pd.DataFrame(array2).value_counts())\n",
    "dfmerge.reset_index(inplace=True)                       \n",
    "dffinal.reset_index(inplace=True)\n",
    "dffinal = dffinal.rename(columns = {0:'Items'})\n",
    "dfmerge = dfmerge.rename(columns = {0:'Items'})\n",
    "\n",
    "result = pd.merge(dffinal, dfmerge, on='Items', how='inner')\n",
    "result = result.head(10)\n",
    "\n",
    "X = result.Items\n",
    "Ygirls = result.count_x\t\n",
    "Zboys = result.count_y\n",
    "\n",
    "X_axis = np.arange(len(X))[::-1]\n",
    "\n",
    "plt.figure(figsize=[5,5])\n",
    "plt.barh(X_axis - 0.2, Ygirls, 0.4, label = 'Want to work') \n",
    "plt.barh(X_axis + 0.2, Zboys, 0.4, label = 'Have worked with') \n",
    "\n",
    "\n",
    "\n",
    "plt.yticks(X_axis, X) \n",
    "plt.xlabel(\"Amount\") \n",
    "plt.ylabel(\"Languages\") \n",
    "plt.title(\"Want to work x Have worked with\") \n",
    "plt.legend()\n",
    "plt.show()"
   ]
  }
 ],
 "metadata": {
  "kernelspec": {
   "display_name": "Python 3",
   "language": "python",
   "name": "python3"
  },
  "language_info": {
   "codemirror_mode": {
    "name": "ipython",
    "version": 3
   },
   "file_extension": ".py",
   "mimetype": "text/x-python",
   "name": "python",
   "nbconvert_exporter": "python",
   "pygments_lexer": "ipython3",
   "version": "3.12.1"
  }
 },
 "nbformat": 4,
 "nbformat_minor": 2
}
