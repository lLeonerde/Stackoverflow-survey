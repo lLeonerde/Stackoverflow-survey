{
 "cells": [
  {
   "cell_type": "code",
   "execution_count": 311,
   "metadata": {},
   "outputs": [
    {
     "name": "stdout",
     "output_type": "stream",
     "text": [
      "Index(['Age', 'RemoteWork', 'EdLevel', 'LearnCode', 'DevType', 'Country',\n",
      "       'Currency', 'LanguageHaveWorkedWith', 'LanguageWantToWorkWith',\n",
      "       'ConvertedCompYearly'],\n",
      "      dtype='object')\n"
     ]
    }
   ],
   "source": [
    "import pandas as pd\n",
    "import matplotlib.pyplot as plt\n",
    "import numpy as np\n",
    "import plotly.express as px\n",
    "import plotly.graph_objects as go\n",
    "import warnings\n",
    "from sklearn.linear_model import LinearRegression\n",
    "\n",
    "df = pd.read_csv(\"survey_results_public.csv\")\n",
    "pd.set_option('display.max_row', 500)\n",
    "pd.set_option('display.float_format', '{:.2f}'.format)\n",
    "'''\n",
    "\n",
    "df = df.drop(columns=['ResponseId','CodingActivities','Employment','OrgSize','TechList','PurchaseInfluence','BuyNewTool','PlatformHaveWorkedWith','PlatformWantToWorkWith','Q120','DatabaseHaveWorkedWith','DatabaseWantToWorkWith','WebframeHaveWorkedWith','WebframeWantToWorkWith',\n",
    "       'MiscTechHaveWorkedWith', 'MiscTechWantToWorkWith',\n",
    "       'ToolsTechHaveWorkedWith', 'ToolsTechWantToWorkWith',\n",
    "       'NEWCollabToolsHaveWorkedWith', 'NEWCollabToolsWantToWorkWith',\n",
    "       'OpSysPersonal use', 'OpSysProfessional use',\n",
    "       'OfficeStackAsyncHaveWorkedWith', 'OfficeStackAsyncWantToWorkWith',\n",
    "       'OfficeStackSyncHaveWorkedWith', 'OfficeStackSyncWantToWorkWith','NEWSOSites',\n",
    "       'SOVisitFreq', 'SOAccount', 'SOPartFreq', 'SOComm', 'SOAI', 'AISelect',\n",
    "       'AISent', 'AIAcc', 'AIBen','Unnamed: 0','MainBranch',\n",
    "       'LearnCodeOnline', 'LearnCodeCoursesCert', 'YearsCode', 'YearsCodePro', 'AISearchHaveWorkedWith',\n",
    "       'AISearchWantToWorkWith', 'AIDevHaveWorkedWith', 'AIDevWantToWorkWith',\n",
    "       'AIToolInterested in Using', 'AIToolCurrently Using',\n",
    "       'AIToolNot interested in Using', 'AINextVery different',\n",
    "       'AINextNeither different nor similar', 'AINextSomewhat similar',\n",
    "       'AINextVery similar', 'AINextSomewhat different', 'TBranch', 'ICorPM',\n",
    "       'WorkExp', 'Knowledge_1', 'Knowledge_2', 'Knowledge_3', 'Knowledge_4',\n",
    "       'Knowledge_5', 'Knowledge_6', 'Knowledge_7', 'Knowledge_8',\n",
    "       'Frequency_1', 'Frequency_2', 'Frequency_3', 'TimeSearching',\n",
    "       'TimeAnswering', 'SurveyLength','SurveyEase','CompTotal','ProfessionalTech', 'Industry'],axis=1)\n",
    "'''\n",
    "\n",
    "''' Não uteis\n",
    "    CodingActivities\n",
    "    Employment\n",
    "    OrgSize\n",
    "    TechList\n",
    "    PurchaseInfluence\n",
    "    BuyNewTool\n",
    "    Currency\n",
    "'''\n",
    "''' Kinda\n",
    "    LearnCode\n",
    "    LearnCodeOnline\n",
    "    LearnCodeCoursesCert\n",
    "    YearsCode\n",
    "    DevType\n",
    "    LanguageHaveWorkedWith\n",
    "    AISearchHaveWorkedWith\n",
    "    WorkExp\n",
    "    TimeAnswering\n",
    "'''\n",
    "''' Uteis\n",
    "    EdLevel\n",
    "    RemoteWork\n",
    "    Country\n",
    "    ConvertedCompYearly\n",
    "'''\n",
    "print(df.columns)\n",
    "\n"
   ]
  },
  {
   "cell_type": "code",
   "execution_count": 312,
   "metadata": {},
   "outputs": [],
   "source": [
    "lang = pd.read_csv('languages.csv')\n",
    "lang23 = lang[['LanguageHaveWorkedWith2023','LanguageWantToWorkWith2023']]\n",
    "a = lang23['LanguageWantToWorkWith2023'].dropna().str.split(';',expand=True).stack().reset_index(level=1, drop=True).value_counts().reset_index().rename(columns={\"index\": \"value\", 0: \"LanguageHaveWorkedWith2023\"})\n",
    "b = lang23['LanguageHaveWorkedWith2023'].dropna().str.split(';',expand=True).stack().reset_index(level=1, drop=True).value_counts().reset_index().rename(columns={\"index\": \"value\", 0: \"LanguageWantToWorkWith2023\"})\n",
    "merged_df23 = pd.merge(a, b, on=\"value\", how=\"outer\",suffixes=('_HaveWorkedWith2023', '_WantToWorkWith2023')).dropna()\n",
    "\n",
    "lang22 = lang[['LanguageHaveWorkedWith2022','LanguageWantToWorkWith2022']]\n",
    "a = lang22['LanguageWantToWorkWith2022'].dropna().str.split(';',expand=True).stack().reset_index(level=1, drop=True).value_counts().reset_index().rename(columns={\"index\": \"value\", 0: \"LanguageHaveWorkedWith2022\"})\n",
    "b = lang22['LanguageHaveWorkedWith2022'].dropna().str.split(';',expand=True).stack().reset_index(level=1, drop=True).value_counts().reset_index().rename(columns={\"index\": \"value\", 0: \"LanguageWantToWorkWith2022\"})\n",
    "merged_df22 = pd.merge(a, b, on=\"value\", how=\"outer\",suffixes=('_HaveWorkedWith2022', '_WantToWorkWith2022')).dropna()\n",
    "\n",
    "lang21 = lang[['LanguageHaveWorkedWith2021','LanguageWantToWorkWith2021']]\n",
    "a = lang21['LanguageWantToWorkWith2021'].dropna().str.split(';',expand=True).stack().reset_index(level=1, drop=True).value_counts().reset_index().rename(columns={\"index\": \"value\", 0: \"LanguageHaveWorkedWith2021\"})\n",
    "b = lang21['LanguageHaveWorkedWith2021'].dropna().str.split(';',expand=True).stack().reset_index(level=1, drop=True).value_counts().reset_index().rename(columns={\"index\": \"value\", 0: \"LanguageWantToWorkWith2021\"})\n",
    "merged_df21 = pd.merge(a, b, on=\"value\", how=\"outer\",suffixes=('_HaveWorkedWith2021', '_WantToWorkWith2021')).dropna()\n",
    "\n",
    "\n",
    "lang20 = lang[['LanguageHaveWorkedWith2020', 'LanguageWantToWorkWith2020']]\n",
    "a = lang20['LanguageWantToWorkWith2020'].dropna().str.split(';', expand=True).stack().reset_index(level=1, drop=True).value_counts().reset_index().rename(columns={\"index\": \"value\", 0: \"LanguageHaveWorkedWith2020\"})\n",
    "b = lang20['LanguageHaveWorkedWith2020'].dropna().str.split(';', expand=True).stack().reset_index(level=1, drop=True).value_counts().reset_index().rename(columns={\"index\": \"value\", 0: \"LanguageWantToWorkWith2020\"})\n",
    "merged_df20 = pd.merge(a, b, on=\"value\", how=\"outer\", suffixes=('_HaveWorkedWith2020', '_WantToWorkWith2020')).dropna()\n",
    "\n",
    "\n",
    "lang19 = lang[['LanguageHaveWorkedWith2019', 'LanguageWantToWorkWith2019']]\n",
    "a = lang19['LanguageWantToWorkWith2019'].dropna().str.split(';', expand=True).stack().reset_index(level=1, drop=True).value_counts().reset_index().rename(columns={\"index\": \"value\", 0: \"LanguageHaveWorkedWith2019\"})\n",
    "b = lang19['LanguageHaveWorkedWith2019'].dropna().str.split(';', expand=True).stack().reset_index(level=1, drop=True).value_counts().reset_index().rename(columns={\"index\": \"value\", 0: \"LanguageWantToWorkWith2019\"})\n",
    "merged_df19 = pd.merge(a, b, on=\"value\", how=\"outer\", suffixes=('_HaveWorkedWith2019', '_WantToWorkWith2019')).dropna()\n",
    "\n"
   ]
  },
  {
   "cell_type": "code",
   "execution_count": 313,
   "metadata": {},
   "outputs": [],
   "source": [
    "merged_df19_20 = pd.merge(merged_df19, merged_df20, on=\"value\", how=\"outer\").dropna()\n",
    "merged_df19_20_21 = pd.merge(merged_df19_20, merged_df21, on=\"value\", how=\"outer\").dropna()\n",
    "merged_df19_20_21_22 = pd.merge(merged_df19_20_21, merged_df22, on=\"value\", how=\"outer\").dropna()\n",
    "merged_all = pd.merge(merged_df19_20_21_22, merged_df23, on=\"value\", how=\"outer\").dropna()\n"
   ]
  },
  {
   "cell_type": "code",
   "execution_count": 314,
   "metadata": {},
   "outputs": [],
   "source": [
    "merged_all[['value','count_WantToWorkWith2022','count_WantToWorkWith2023']]\n",
    "merged_all = merged_all.sort_values('count_HaveWorkedWith2023')[::-1].head(10)\n",
    "merged_all.set_index('value',inplace=True)\n",
    "wanttoworkwith = merged_all[['count_WantToWorkWith2019','count_WantToWorkWith2020','count_WantToWorkWith2021','count_WantToWorkWith2022','count_WantToWorkWith2023']]\n",
    "haveworkedwith = merged_all[['count_HaveWorkedWith2019','count_HaveWorkedWith2020','count_HaveWorkedWith2021','count_HaveWorkedWith2022','count_HaveWorkedWith2023',]]\n"
   ]
  },
  {
   "cell_type": "code",
   "execution_count": 332,
   "metadata": {},
   "outputs": [],
   "source": [
    "wanttoworkwith.columns = [2019,2020,2021,2022,2023]\n",
    "wanttoworkwith_transpose = wanttoworkwith.T.reset_index()\n",
    "wanttoworkwith_transpose = wanttoworkwith_transpose.rename(columns={'index': 'Year'})\n",
    "model = LinearRegression()\n",
    "X = wanttoworkwith_transpose[['Year']].values\n",
    "\n",
    "years = [2024, 2025, 2026, 2027, 2028]\n",
    "wanttoworkwith_predict = pd.DataFrame()\n",
    "for year in years:\n",
    "    data = []\n",
    "    for language in wanttoworkwith_transpose.columns[1:]:\n",
    "        y = wanttoworkwith_transpose[language].values\n",
    "        model.fit(X, y)\n",
    "        prediction = model.predict([[year]])\n",
    "        data.append(prediction[0])  \n",
    "    wanttoworkwith_predict[f'{year}'] = data\n",
    "\n",
    "wtww_noindex = wanttoworkwith.reset_index(drop=True)\n",
    "wanttoworkwith_result = pd.concat([wtww_noindex,wanttoworkwith_predict],axis=1)\n",
    "wanttoworkwith_result = wanttoworkwith_result.astype(int)\n",
    "index = wanttoworkwith.reset_index().value\n",
    "wanttoworkwith_result = wanttoworkwith_result.set_index(index)\n",
    "wanttoworkwith_result = wanttoworkwith_result.reset_index(drop=False).rename(columns={'value': 'Languages'})\n",
    "\n",
    "#wanttoworkwith_result.to_csv('wanttoworkwith_predicted.csv',index=False)"
   ]
  },
  {
   "cell_type": "code",
   "execution_count": 333,
   "metadata": {},
   "outputs": [],
   "source": [
    "haveworkedwith.columns = [2019,2020,2021,2022,2023]\n",
    "haveworkedwith_transpose = haveworkedwith.T.reset_index()\n",
    "haveworkedwith_transpose = haveworkedwith_transpose.rename(columns={'index': 'Year'})\n",
    "model = LinearRegression()\n",
    "X = haveworkedwith_transpose[['Year']].values\n",
    "\n",
    "years = [2024, 2025, 2026, 2027, 2028]\n",
    "haveworkedwith_predict = pd.DataFrame()\n",
    "for year in years:\n",
    "    data = []\n",
    "    for language in haveworkedwith_transpose.columns[1:]:\n",
    "        y = haveworkedwith_transpose[language].values\n",
    "        model.fit(X, y)\n",
    "        prediction = model.predict([[year]])\n",
    "        data.append(prediction[0])  \n",
    "    haveworkedwith_predict[f'{year}'] = data\n",
    "\n",
    "hww_noindex = wanttoworkwith.reset_index(drop=True)\n",
    "haveworkedwith_result = pd.concat([hww_noindex,haveworkedwith_predict],axis=1)\n",
    "haveworkedwith_result = haveworkedwith_result.astype(int)\n",
    "index = wanttoworkwith.reset_index().value\n",
    "haveworkedwith_result = haveworkedwith_result.set_index(index)\n",
    "haveworkedwith_result = haveworkedwith_result.reset_index(drop=False).rename(columns={'value': 'Languages'})\n",
    "\n",
    "haveworkedwith_result.to_csv('haveworkedwith_predicted.csv',index=False)"
   ]
  },
  {
   "cell_type": "code",
   "execution_count": 326,
   "metadata": {},
   "outputs": [
    {
     "data": {
      "image/png": "[encoded data removed]",
      "text/plain": [
       "<Figure size 640x480 with 1 Axes>"
      ]
     },
     "metadata": {},
     "output_type": "display_data"
    }
   ],
   "source": [
    "haveworkedwith_result_sorted = haveworkedwith_result.sort_values(by='2028', ascending=False)\n",
    "\n",
    "top_3_languages = haveworkedwith_result_sorted.head(3)\n",
    "\n",
    "top_3_languages = top_3_languages.set_index('Languages')\n",
    "top_3_languages = top_3_languages.T\n",
    "top_3_languages = top_3_languages.rename_axis('Years').reset_index()\n",
    "top_3_languages = top_3_languages.reset_index(drop=True)\n",
    "\n",
    "plt.xlabel(\"Years\")\n",
    "plt.ylabel(\"Amount\")\n",
    "plt.title(\"Top 3 Languages Have Worked With Per Year\")\n",
    "plt.plot(top_3_languages['Years'], top_3_languages['TypeScript'], label=\"TypeScript\")\n",
    "plt.plot(top_3_languages['Years'], top_3_languages['Rust'], label=\"Rust\")\n",
    "plt.plot(top_3_languages['Years'], top_3_languages['Python'], label=\"Python\")\n",
    "\n",
    "plt.legend(shadow=True,fontsize=\"small\")\n",
    "plt.show()"
   ]
  },
  {
   "cell_type": "code",
   "execution_count": 329,
   "metadata": {},
   "outputs": [
    {
     "data": {
      "image/png": "[encoded data removed]",
      "text/plain": [
       "<Figure size 640x480 with 1 Axes>"
      ]
     },
     "metadata": {},
     "output_type": "display_data"
    }
   ],
   "source": [
    "wanttoworkwith_resultwith_result_sorted = wanttoworkwith_result.sort_values(by='2028', ascending=False)\n",
    "\n",
    "top_3_languages = wanttoworkwith_resultwith_result_sorted.head(3)\n",
    "\n",
    "top_3_languages = top_3_languages.set_index('Languages')\n",
    "top_3_languages = top_3_languages.T\n",
    "top_3_languages = top_3_languages.rename_axis('Years').reset_index()\n",
    "top_3_languages = top_3_languages.reset_index(drop=True)\n",
    "\n",
    "\n",
    "plt.xlabel(\"Years\")\n",
    "plt.ylabel(\"Amount\")\n",
    "plt.title(\"Top 3 Languages Want To worked With Per Year\")\n",
    "plt.plot(top_3_languages['Years'], top_3_languages['TypeScript'], label=\"TypeScript\")\n",
    "plt.plot(top_3_languages['Years'], top_3_languages['JavaScript'], label=\"JavaScript\")\n",
    "plt.plot(top_3_languages['Years'], top_3_languages['Python'], label=\"Python\")\n",
    "\n",
    "plt.legend(shadow=True,fontsize=\"small\")\n",
    "plt.show()\n"
   ]
  },
  {
   "cell_type": "code",
   "execution_count": null,
   "metadata": {},
   "outputs": [
    {
     "data": {
      "text/plain": [
       "<Figure size 1600x800 with 0 Axes>"
      ]
     },
     "metadata": {},
     "output_type": "display_data"
    },
    {
     "data": {
      "image/png": "[encoded data removed]",
      "text/plain": [
       "<Figure size 640x480 with 1 Axes>"
      ]
     },
     "metadata": {},
     "output_type": "display_data"
    }
   ],
   "source": [
    "ConvertedCompYearly = df[['Country','ConvertedCompYearly']].dropna()\n",
    "ConvertedCompYearly = ConvertedCompYearly[(ConvertedCompYearly['ConvertedCompYearly'] > 13000.00) & (ConvertedCompYearly['ConvertedCompYearly'] < 1000000.00)]\n",
    "\n",
    "ConvertedCompYearly = ConvertedCompYearly.groupby(\"Country\")\n",
    "ConvertedCompYearly = ConvertedCompYearly.mean()\n",
    "ConvertedCompYearly = ConvertedCompYearly.sort_values(by='ConvertedCompYearly')[::-1]\n",
    "ConvertedCompYearly['ConvertedCompYearly'] = ConvertedCompYearly['ConvertedCompYearly'] - 80000\n",
    "\n",
    "\n",
    "plt.figure(figsize=(16, 8))\n",
    "ConvertedCompYearly.head(10).plot(kind='bar', legend=False, bottom=80000)\n",
    "plt.xlabel('Country')\n",
    "plt.ylabel('Average ConvertedCompYearly')\n",
    "plt.title('Top 10 Countries by Average ConvertedCompYearly')\n",
    "plt.xticks(rotation=45, ha='right')\n",
    "plt.tight_layout()\n",
    "plt.show()"
   ]
  },
  {
   "cell_type": "code",
   "execution_count": null,
   "metadata": {},
   "outputs": [
    {
     "data": {
      "application/vnd.plotly.v1+json": {
       "config": {
        "plotlyServerURL": "https://plot.ly"
       },
       "data": [
        {
         "labels": [
          "Remote",
          "Hybrid",
          "In-person"
         ],
         "textfont": {
          "color": "ivory",
          "size": 20
         },
         "textinfo": "value",
         "texttemplate": "%{value:$,.2s}",
         "type": "funnelarea",
         "values": [
          105442.3284292514,
          90452.02563463169,
          68505.5036266162
         ]
        }
       ],
       "layout": {
        "font": {
         "color": "black"
        },
        "height": 400,
        "template": {
         "data": {
          "bar": [
           {
            "error_x": {
             "color": "#2a3f5f"
            },
            "error_y": {
             "color": "#2a3f5f"
            },
            "marker": {
             "line": {
              "color": "#E5ECF6",
              "width": 0.5
             },
             "pattern": {
              "fillmode": "overlay",
              "size": 10,
              "solidity": 0.2
             }
            },
            "type": "bar"
           }
          ],
          "barpolar": [
           {
            "marker": {
             "line": {
              "color": "#E5ECF6",
              "width": 0.5
             },
             "pattern": {
              "fillmode": "overlay",
              "size": 10,
              "solidity": 0.2
             }
            },
            "type": "barpolar"
           }
          ],
          "carpet": [
           {
            "aaxis": {
             "endlinecolor": "#2a3f5f",
             "gridcolor": "white",
             "linecolor": "white",
             "minorgridcolor": "white",
             "startlinecolor": "#2a3f5f"
            },
            "baxis": {
             "endlinecolor": "#2a3f5f",
             "gridcolor": "white",
             "linecolor": "white",
             "minorgridcolor": "white",
             "startlinecolor": "#2a3f5f"
            },
            "type": "carpet"
           }
          ],
          "choropleth": [
           {
            "colorbar": {
             "outlinewidth": 0,
             "ticks": ""
            },
            "type": "choropleth"
           }
          ],
          "contour": [
           {
            "colorbar": {
             "outlinewidth": 0,
             "ticks": ""
            },
            "colorscale": [
             [
              0,
              "#0d0887"
             ],
             [
              0.1111111111111111,
              "#46039f"
             ],
             [
              0.2222222222222222,
              "#7201a8"
             ],
             [
              0.3333333333333333,
              "#9c179e"
             ],
             [
              0.4444444444444444,
              "#bd3786"
             ],
             [
              0.5555555555555556,
              "#d8576b"
             ],
             [
              0.6666666666666666,
              "#ed7953"
             ],
             [
              0.7777777777777778,
              "#fb9f3a"
             ],
             [
              0.8888888888888888,
              "#fdca26"
             ],
             [
              1,
              "#f0f921"
             ]
            ],
            "type": "contour"
           }
          ],
          "contourcarpet": [
           {
            "colorbar": {
             "outlinewidth": 0,
             "ticks": ""
            },
            "type": "contourcarpet"
           }
          ],
          "heatmap": [
           {
            "colorbar": {
             "outlinewidth": 0,
             "ticks": ""
            },
            "colorscale": [
             [
              0,
              "#0d0887"
             ],
             [
              0.1111111111111111,
              "#46039f"
             ],
             [
              0.2222222222222222,
              "#7201a8"
             ],
             [
              0.3333333333333333,
              "#9c179e"
             ],
             [
              0.4444444444444444,
              "#bd3786"
             ],
             [
              0.5555555555555556,
              "#d8576b"
             ],
             [
              0.6666666666666666,
              "#ed7953"
             ],
             [
              0.7777777777777778,
              "#fb9f3a"
             ],
             [
              0.8888888888888888,
              "#fdca26"
             ],
             [
              1,
              "#f0f921"
             ]
            ],
            "type": "heatmap"
           }
          ],
          "heatmapgl": [
           {
            "colorbar": {
             "outlinewidth": 0,
             "ticks": ""
            },
            "colorscale": [
             [
              0,
              "#0d0887"
             ],
             [
              0.1111111111111111,
              "#46039f"
             ],
             [
              0.2222222222222222,
              "#7201a8"
             ],
             [
              0.3333333333333333,
              "#9c179e"
             ],
             [
              0.4444444444444444,
              "#bd3786"
             ],
             [
              0.5555555555555556,
              "#d8576b"
             ],
             [
              0.6666666666666666,
              "#ed7953"
             ],
             [
              0.7777777777777778,
              "#fb9f3a"
             ],
             [
              0.8888888888888888,
              "#fdca26"
             ],
             [
              1,
              "#f0f921"
             ]
            ],
            "type": "heatmapgl"
           }
          ],
          "histogram": [
           {
            "marker": {
             "pattern": {
              "fillmode": "overlay",
              "size": 10,
              "solidity": 0.2
             }
            },
            "type": "histogram"
           }
          ],
          "histogram2d": [
           {
            "colorbar": {
             "outlinewidth": 0,
             "ticks": ""
            },
            "colorscale": [
             [
              0,
              "#0d0887"
             ],
             [
              0.1111111111111111,
              "#46039f"
             ],
             [
              0.2222222222222222,
              "#7201a8"
             ],
             [
              0.3333333333333333,
              "#9c179e"
             ],
             [
              0.4444444444444444,
              "#bd3786"
             ],
             [
              0.5555555555555556,
              "#d8576b"
             ],
             [
              0.6666666666666666,
              "#ed7953"
             ],
             [
              0.7777777777777778,
              "#fb9f3a"
             ],
             [
              0.8888888888888888,
              "#fdca26"
             ],
             [
              1,
              "#f0f921"
             ]
            ],
            "type": "histogram2d"
           }
          ],
          "histogram2dcontour": [
           {
            "colorbar": {
             "outlinewidth": 0,
             "ticks": ""
            },
            "colorscale": [
             [
              0,
              "#0d0887"
             ],
             [
              0.1111111111111111,
              "#46039f"
             ],
             [
              0.2222222222222222,
              "#7201a8"
             ],
             [
              0.3333333333333333,
              "#9c179e"
             ],
             [
              0.4444444444444444,
              "#bd3786"
             ],
             [
              0.5555555555555556,
              "#d8576b"
             ],
             [
              0.6666666666666666,
              "#ed7953"
             ],
             [
              0.7777777777777778,
              "#fb9f3a"
             ],
             [
              0.8888888888888888,
              "#fdca26"
             ],
             [
              1,
              "#f0f921"
             ]
            ],
            "type": "histogram2dcontour"
           }
          ],
          "mesh3d": [
           {
            "colorbar": {
             "outlinewidth": 0,
             "ticks": ""
            },
            "type": "mesh3d"
           }
          ],
          "parcoords": [
           {
            "line": {
             "colorbar": {
              "outlinewidth": 0,
              "ticks": ""
             }
            },
            "type": "parcoords"
           }
          ],
          "pie": [
           {
            "automargin": true,
            "type": "pie"
           }
          ],
          "scatter": [
           {
            "fillpattern": {
             "fillmode": "overlay",
             "size": 10,
             "solidity": 0.2
            },
            "type": "scatter"
           }
          ],
          "scatter3d": [
           {
            "line": {
             "colorbar": {
              "outlinewidth": 0,
              "ticks": ""
             }
            },
            "marker": {
             "colorbar": {
              "outlinewidth": 0,
              "ticks": ""
             }
            },
            "type": "scatter3d"
           }
          ],
          "scattercarpet": [
           {
            "marker": {
             "colorbar": {
              "outlinewidth": 0,
              "ticks": ""
             }
            },
            "type": "scattercarpet"
           }
          ],
          "scattergeo": [
           {
            "marker": {
             "colorbar": {
              "outlinewidth": 0,
              "ticks": ""
             }
            },
            "type": "scattergeo"
           }
          ],
          "scattergl": [
           {
            "marker": {
             "colorbar": {
              "outlinewidth": 0,
              "ticks": ""
             }
            },
            "type": "scattergl"
           }
          ],
          "scattermapbox": [
           {
            "marker": {
             "colorbar": {
              "outlinewidth": 0,
              "ticks": ""
             }
            },
            "type": "scattermapbox"
           }
          ],
          "scatterpolar": [
           {
            "marker": {
             "colorbar": {
              "outlinewidth": 0,
              "ticks": ""
             }
            },
            "type": "scatterpolar"
           }
          ],
          "scatterpolargl": [
           {
            "marker": {
             "colorbar": {
              "outlinewidth": 0,
              "ticks": ""
             }
            },
            "type": "scatterpolargl"
           }
          ],
          "scatterternary": [
           {
            "marker": {
             "colorbar": {
              "outlinewidth": 0,
              "ticks": ""
             }
            },
            "type": "scatterternary"
           }
          ],
          "surface": [
           {
            "colorbar": {
             "outlinewidth": 0,
             "ticks": ""
            },
            "colorscale": [
             [
              0,
              "#0d0887"
             ],
             [
              0.1111111111111111,
              "#46039f"
             ],
             [
              0.2222222222222222,
              "#7201a8"
             ],
             [
              0.3333333333333333,
              "#9c179e"
             ],
             [
              0.4444444444444444,
              "#bd3786"
             ],
             [
              0.5555555555555556,
              "#d8576b"
             ],
             [
              0.6666666666666666,
              "#ed7953"
             ],
             [
              0.7777777777777778,
              "#fb9f3a"
             ],
             [
              0.8888888888888888,
              "#fdca26"
             ],
             [
              1,
              "#f0f921"
             ]
            ],
            "type": "surface"
           }
          ],
          "table": [
           {
            "cells": {
             "fill": {
              "color": "#EBF0F8"
             },
             "line": {
              "color": "white"
             }
            },
            "header": {
             "fill": {
              "color": "#C8D4E3"
             },
             "line": {
              "color": "white"
             }
            },
            "type": "table"
           }
          ]
         },
         "layout": {
          "annotationdefaults": {
           "arrowcolor": "#2a3f5f",
           "arrowhead": 0,
           "arrowwidth": 1
          },
          "autotypenumbers": "strict",
          "coloraxis": {
           "colorbar": {
            "outlinewidth": 0,
            "ticks": ""
           }
          },
          "colorscale": {
           "diverging": [
            [
             0,
             "#8e0152"
            ],
            [
             0.1,
             "#c51b7d"
            ],
            [
             0.2,
             "#de77ae"
            ],
            [
             0.3,
             "#f1b6da"
            ],
            [
             0.4,
             "#fde0ef"
            ],
            [
             0.5,
             "#f7f7f7"
            ],
            [
             0.6,
             "#e6f5d0"
            ],
            [
             0.7,
             "#b8e186"
            ],
            [
             0.8,
             "#7fbc41"
            ],
            [
             0.9,
             "#4d9221"
            ],
            [
             1,
             "#276419"
            ]
           ],
           "sequential": [
            [
             0,
             "#0d0887"
            ],
            [
             0.1111111111111111,
             "#46039f"
            ],
            [
             0.2222222222222222,
             "#7201a8"
            ],
            [
             0.3333333333333333,
             "#9c179e"
            ],
            [
             0.4444444444444444,
             "#bd3786"
            ],
            [
             0.5555555555555556,
             "#d8576b"
            ],
            [
             0.6666666666666666,
             "#ed7953"
            ],
            [
             0.7777777777777778,
             "#fb9f3a"
            ],
            [
             0.8888888888888888,
             "#fdca26"
            ],
            [
             1,
             "#f0f921"
            ]
           ],
           "sequentialminus": [
            [
             0,
             "#0d0887"
            ],
            [
             0.1111111111111111,
             "#46039f"
            ],
            [
             0.2222222222222222,
             "#7201a8"
            ],
            [
             0.3333333333333333,
             "#9c179e"
            ],
            [
             0.4444444444444444,
             "#bd3786"
            ],
            [
             0.5555555555555556,
             "#d8576b"
            ],
            [
             0.6666666666666666,
             "#ed7953"
            ],
            [
             0.7777777777777778,
             "#fb9f3a"
            ],
            [
             0.8888888888888888,
             "#fdca26"
            ],
            [
             1,
             "#f0f921"
            ]
           ]
          },
          "colorway": [
           "#636efa",
           "#EF553B",
           "#00cc96",
           "#ab63fa",
           "#FFA15A",
           "#19d3f3",
           "#FF6692",
           "#B6E880",
           "#FF97FF",
           "#FECB52"
          ],
          "font": {
           "color": "#2a3f5f"
          },
          "geo": {
           "bgcolor": "white",
           "lakecolor": "white",
           "landcolor": "#E5ECF6",
           "showlakes": true,
           "showland": true,
           "subunitcolor": "white"
          },
          "hoverlabel": {
           "align": "left"
          },
          "hovermode": "closest",
          "mapbox": {
           "style": "light"
          },
          "paper_bgcolor": "white",
          "plot_bgcolor": "#E5ECF6",
          "polar": {
           "angularaxis": {
            "gridcolor": "white",
            "linecolor": "white",
            "ticks": ""
           },
           "bgcolor": "#E5ECF6",
           "radialaxis": {
            "gridcolor": "white",
            "linecolor": "white",
            "ticks": ""
           }
          },
          "scene": {
           "xaxis": {
            "backgroundcolor": "#E5ECF6",
            "gridcolor": "white",
            "gridwidth": 2,
            "linecolor": "white",
            "showbackground": true,
            "ticks": "",
            "zerolinecolor": "white"
           },
           "yaxis": {
            "backgroundcolor": "#E5ECF6",
            "gridcolor": "white",
            "gridwidth": 2,
            "linecolor": "white",
            "showbackground": true,
            "ticks": "",
            "zerolinecolor": "white"
           },
           "zaxis": {
            "backgroundcolor": "#E5ECF6",
            "gridcolor": "white",
            "gridwidth": 2,
            "linecolor": "white",
            "showbackground": true,
            "ticks": "",
            "zerolinecolor": "white"
           }
          },
          "shapedefaults": {
           "line": {
            "color": "#2a3f5f"
           }
          },
          "ternary": {
           "aaxis": {
            "gridcolor": "white",
            "linecolor": "white",
            "ticks": ""
           },
           "baxis": {
            "gridcolor": "white",
            "linecolor": "white",
            "ticks": ""
           },
           "bgcolor": "#E5ECF6",
           "caxis": {
            "gridcolor": "white",
            "linecolor": "white",
            "ticks": ""
           }
          },
          "title": {
           "x": 0.05
          },
          "xaxis": {
           "automargin": true,
           "gridcolor": "white",
           "linecolor": "white",
           "ticks": "",
           "title": {
            "standoff": 15
           },
           "zerolinecolor": "white",
           "zerolinewidth": 2
          },
          "yaxis": {
           "automargin": true,
           "gridcolor": "white",
           "linecolor": "white",
           "ticks": "",
           "title": {
            "standoff": 15
           },
           "zerolinecolor": "white",
           "zerolinewidth": 2
          }
         }
        },
        "title": {
         "text": "Average Salary Based on RemoteWork",
         "x": 0.47,
         "y": 0.95
        },
        "width": 600
       }
      }
     },
     "metadata": {},
     "output_type": "display_data"
    }
   ],
   "source": [
    "RemoteWork = df[['RemoteWork', 'ConvertedCompYearly']].dropna()\n",
    "RemoteWork = RemoteWork[(RemoteWork['ConvertedCompYearly'] > 1000.00) & (RemoteWork['ConvertedCompYearly'] < 1000000.00)]\n",
    "RemoteWork.replace('Hybrid (some remote, some in-person)','Hybrid',inplace=True)\n",
    "RemoteWork = RemoteWork.groupby(\"RemoteWork\")\n",
    "RemoteWork = RemoteWork.mean()\n",
    "RemoteWork = RemoteWork.sort_values(by='ConvertedCompYearly')[::-1]\n",
    "RemoteWork = RemoteWork.reset_index()\n",
    "\n",
    "\n",
    "fig = go.Figure(go.Funnelarea(\n",
    "    labels = RemoteWork.RemoteWork,\n",
    "    values  = RemoteWork.ConvertedCompYearly,\n",
    "    textinfo = \"value\",\n",
    "    textfont_size=20,\n",
    "    texttemplate=\"%{value:$,.2s}\",\n",
    "    textfont=dict(color='ivory')))\n",
    "\n",
    "fig.update_layout(\n",
    "    title='Average Salary Based on RemoteWork',\n",
    "    height=400,  \n",
    "    width=600,\n",
    "    font=dict(color='black'),\n",
    "    title_x=0.47, \n",
    "    title_y=0.95  \n",
    ")\n",
    "fig.show()"
   ]
  },
  {
   "cell_type": "code",
   "execution_count": null,
   "metadata": {},
   "outputs": [
    {
     "data": {
      "application/vnd.plotly.v1+json": {
       "config": {
        "plotlyServerURL": "https://plot.ly"
       },
       "data": [
        {
         "colorscale": [
          [
           0,
           "#0d0887"
          ],
          [
           0.1111111111111111,
           "#46039f"
          ],
          [
           0.2222222222222222,
           "#7201a8"
          ],
          [
           0.3333333333333333,
           "#9c179e"
          ],
          [
           0.4444444444444444,
           "#bd3786"
          ],
          [
           0.5555555555555556,
           "#d8576b"
          ],
          [
           0.6666666666666666,
           "#ed7953"
          ],
          [
           0.7777777777777778,
           "#fb9f3a"
          ],
          [
           0.8888888888888888,
           "#fdca26"
          ],
          [
           1,
           "#f0f921"
          ]
         ],
         "transpose": true,
         "type": "heatmap",
         "x": [
          "Average Compensation"
         ],
         "y": [
          "Something else",
          "Secundary school",
          "Associate degree (A.A., A.S., etc.)",
          "Primary/elementary school",
          "Some college/university study without earning a degree",
          "Master’s degree (M.A., M.S., M.Eng., MBA, etc.)",
          "Bachelor’s degree (B.A., B.S., B.Eng., etc.)",
          "Professional degree (JD, MD, Ph.D, Ed.D, etc.)"
         ],
         "z": [
          [
           68410.26501035197,
           71509.27011764706,
           87060.63231552162,
           87201,
           87939.4418018018,
           94908.69130636913,
           97412.66502685382,
           104634.57573073516
          ]
         ]
        }
       ],
       "layout": {
        "height": 400,
        "template": {
         "data": {
          "bar": [
           {
            "error_x": {
             "color": "#2a3f5f"
            },
            "error_y": {
             "color": "#2a3f5f"
            },
            "marker": {
             "line": {
              "color": "#E5ECF6",
              "width": 0.5
             },
             "pattern": {
              "fillmode": "overlay",
              "size": 10,
              "solidity": 0.2
             }
            },
            "type": "bar"
           }
          ],
          "barpolar": [
           {
            "marker": {
             "line": {
              "color": "#E5ECF6",
              "width": 0.5
             },
             "pattern": {
              "fillmode": "overlay",
              "size": 10,
              "solidity": 0.2
             }
            },
            "type": "barpolar"
           }
          ],
          "carpet": [
           {
            "aaxis": {
             "endlinecolor": "#2a3f5f",
             "gridcolor": "white",
             "linecolor": "white",
             "minorgridcolor": "white",
             "startlinecolor": "#2a3f5f"
            },
            "baxis": {
             "endlinecolor": "#2a3f5f",
             "gridcolor": "white",
             "linecolor": "white",
             "minorgridcolor": "white",
             "startlinecolor": "#2a3f5f"
            },
            "type": "carpet"
           }
          ],
          "choropleth": [
           {
            "colorbar": {
             "outlinewidth": 0,
             "ticks": ""
            },
            "type": "choropleth"
           }
          ],
          "contour": [
           {
            "colorbar": {
             "outlinewidth": 0,
             "ticks": ""
            },
            "colorscale": [
             [
              0,
              "#0d0887"
             ],
             [
              0.1111111111111111,
              "#46039f"
             ],
             [
              0.2222222222222222,
              "#7201a8"
             ],
             [
              0.3333333333333333,
              "#9c179e"
             ],
             [
              0.4444444444444444,
              "#bd3786"
             ],
             [
              0.5555555555555556,
              "#d8576b"
             ],
             [
              0.6666666666666666,
              "#ed7953"
             ],
             [
              0.7777777777777778,
              "#fb9f3a"
             ],
             [
              0.8888888888888888,
              "#fdca26"
             ],
             [
              1,
              "#f0f921"
             ]
            ],
            "type": "contour"
           }
          ],
          "contourcarpet": [
           {
            "colorbar": {
             "outlinewidth": 0,
             "ticks": ""
            },
            "type": "contourcarpet"
           }
          ],
          "heatmap": [
           {
            "colorbar": {
             "outlinewidth": 0,
             "ticks": ""
            },
            "colorscale": [
             [
              0,
              "#0d0887"
             ],
             [
              0.1111111111111111,
              "#46039f"
             ],
             [
              0.2222222222222222,
              "#7201a8"
             ],
             [
              0.3333333333333333,
              "#9c179e"
             ],
             [
              0.4444444444444444,
              "#bd3786"
             ],
             [
              0.5555555555555556,
              "#d8576b"
             ],
             [
              0.6666666666666666,
              "#ed7953"
             ],
             [
              0.7777777777777778,
              "#fb9f3a"
             ],
             [
              0.8888888888888888,
              "#fdca26"
             ],
             [
              1,
              "#f0f921"
             ]
            ],
            "type": "heatmap"
           }
          ],
          "heatmapgl": [
           {
            "colorbar": {
             "outlinewidth": 0,
             "ticks": ""
            },
            "colorscale": [
             [
              0,
              "#0d0887"
             ],
             [
              0.1111111111111111,
              "#46039f"
             ],
             [
              0.2222222222222222,
              "#7201a8"
             ],
             [
              0.3333333333333333,
              "#9c179e"
             ],
             [
              0.4444444444444444,
              "#bd3786"
             ],
             [
              0.5555555555555556,
              "#d8576b"
             ],
             [
              0.6666666666666666,
              "#ed7953"
             ],
             [
              0.7777777777777778,
              "#fb9f3a"
             ],
             [
              0.8888888888888888,
              "#fdca26"
             ],
             [
              1,
              "#f0f921"
             ]
            ],
            "type": "heatmapgl"
           }
          ],
          "histogram": [
           {
            "marker": {
             "pattern": {
              "fillmode": "overlay",
              "size": 10,
              "solidity": 0.2
             }
            },
            "type": "histogram"
           }
          ],
          "histogram2d": [
           {
            "colorbar": {
             "outlinewidth": 0,
             "ticks": ""
            },
            "colorscale": [
             [
              0,
              "#0d0887"
             ],
             [
              0.1111111111111111,
              "#46039f"
             ],
             [
              0.2222222222222222,
              "#7201a8"
             ],
             [
              0.3333333333333333,
              "#9c179e"
             ],
             [
              0.4444444444444444,
              "#bd3786"
             ],
             [
              0.5555555555555556,
              "#d8576b"
             ],
             [
              0.6666666666666666,
              "#ed7953"
             ],
             [
              0.7777777777777778,
              "#fb9f3a"
             ],
             [
              0.8888888888888888,
              "#fdca26"
             ],
             [
              1,
              "#f0f921"
             ]
            ],
            "type": "histogram2d"
           }
          ],
          "histogram2dcontour": [
           {
            "colorbar": {
             "outlinewidth": 0,
             "ticks": ""
            },
            "colorscale": [
             [
              0,
              "#0d0887"
             ],
             [
              0.1111111111111111,
              "#46039f"
             ],
             [
              0.2222222222222222,
              "#7201a8"
             ],
             [
              0.3333333333333333,
              "#9c179e"
             ],
             [
              0.4444444444444444,
              "#bd3786"
             ],
             [
              0.5555555555555556,
              "#d8576b"
             ],
             [
              0.6666666666666666,
              "#ed7953"
             ],
             [
              0.7777777777777778,
              "#fb9f3a"
             ],
             [
              0.8888888888888888,
              "#fdca26"
             ],
             [
              1,
              "#f0f921"
             ]
            ],
            "type": "histogram2dcontour"
           }
          ],
          "mesh3d": [
           {
            "colorbar": {
             "outlinewidth": 0,
             "ticks": ""
            },
            "type": "mesh3d"
           }
          ],
          "parcoords": [
           {
            "line": {
             "colorbar": {
              "outlinewidth": 0,
              "ticks": ""
             }
            },
            "type": "parcoords"
           }
          ],
          "pie": [
           {
            "automargin": true,
            "type": "pie"
           }
          ],
          "scatter": [
           {
            "fillpattern": {
             "fillmode": "overlay",
             "size": 10,
             "solidity": 0.2
            },
            "type": "scatter"
           }
          ],
          "scatter3d": [
           {
            "line": {
             "colorbar": {
              "outlinewidth": 0,
              "ticks": ""
             }
            },
            "marker": {
             "colorbar": {
              "outlinewidth": 0,
              "ticks": ""
             }
            },
            "type": "scatter3d"
           }
          ],
          "scattercarpet": [
           {
            "marker": {
             "colorbar": {
              "outlinewidth": 0,
              "ticks": ""
             }
            },
            "type": "scattercarpet"
           }
          ],
          "scattergeo": [
           {
            "marker": {
             "colorbar": {
              "outlinewidth": 0,
              "ticks": ""
             }
            },
            "type": "scattergeo"
           }
          ],
          "scattergl": [
           {
            "marker": {
             "colorbar": {
              "outlinewidth": 0,
              "ticks": ""
             }
            },
            "type": "scattergl"
           }
          ],
          "scattermapbox": [
           {
            "marker": {
             "colorbar": {
              "outlinewidth": 0,
              "ticks": ""
             }
            },
            "type": "scattermapbox"
           }
          ],
          "scatterpolar": [
           {
            "marker": {
             "colorbar": {
              "outlinewidth": 0,
              "ticks": ""
             }
            },
            "type": "scatterpolar"
           }
          ],
          "scatterpolargl": [
           {
            "marker": {
             "colorbar": {
              "outlinewidth": 0,
              "ticks": ""
             }
            },
            "type": "scatterpolargl"
           }
          ],
          "scatterternary": [
           {
            "marker": {
             "colorbar": {
              "outlinewidth": 0,
              "ticks": ""
             }
            },
            "type": "scatterternary"
           }
          ],
          "surface": [
           {
            "colorbar": {
             "outlinewidth": 0,
             "ticks": ""
            },
            "colorscale": [
             [
              0,
              "#0d0887"
             ],
             [
              0.1111111111111111,
              "#46039f"
             ],
             [
              0.2222222222222222,
              "#7201a8"
             ],
             [
              0.3333333333333333,
              "#9c179e"
             ],
             [
              0.4444444444444444,
              "#bd3786"
             ],
             [
              0.5555555555555556,
              "#d8576b"
             ],
             [
              0.6666666666666666,
              "#ed7953"
             ],
             [
              0.7777777777777778,
              "#fb9f3a"
             ],
             [
              0.8888888888888888,
              "#fdca26"
             ],
             [
              1,
              "#f0f921"
             ]
            ],
            "type": "surface"
           }
          ],
          "table": [
           {
            "cells": {
             "fill": {
              "color": "#EBF0F8"
             },
             "line": {
              "color": "white"
             }
            },
            "header": {
             "fill": {
              "color": "#C8D4E3"
             },
             "line": {
              "color": "white"
             }
            },
            "type": "table"
           }
          ]
         },
         "layout": {
          "annotationdefaults": {
           "arrowcolor": "#2a3f5f",
           "arrowhead": 0,
           "arrowwidth": 1
          },
          "autotypenumbers": "strict",
          "coloraxis": {
           "colorbar": {
            "outlinewidth": 0,
            "ticks": ""
           }
          },
          "colorscale": {
           "diverging": [
            [
             0,
             "#8e0152"
            ],
            [
             0.1,
             "#c51b7d"
            ],
            [
             0.2,
             "#de77ae"
            ],
            [
             0.3,
             "#f1b6da"
            ],
            [
             0.4,
             "#fde0ef"
            ],
            [
             0.5,
             "#f7f7f7"
            ],
            [
             0.6,
             "#e6f5d0"
            ],
            [
             0.7,
             "#b8e186"
            ],
            [
             0.8,
             "#7fbc41"
            ],
            [
             0.9,
             "#4d9221"
            ],
            [
             1,
             "#276419"
            ]
           ],
           "sequential": [
            [
             0,
             "#0d0887"
            ],
            [
             0.1111111111111111,
             "#46039f"
            ],
            [
             0.2222222222222222,
             "#7201a8"
            ],
            [
             0.3333333333333333,
             "#9c179e"
            ],
            [
             0.4444444444444444,
             "#bd3786"
            ],
            [
             0.5555555555555556,
             "#d8576b"
            ],
            [
             0.6666666666666666,
             "#ed7953"
            ],
            [
             0.7777777777777778,
             "#fb9f3a"
            ],
            [
             0.8888888888888888,
             "#fdca26"
            ],
            [
             1,
             "#f0f921"
            ]
           ],
           "sequentialminus": [
            [
             0,
             "#0d0887"
            ],
            [
             0.1111111111111111,
             "#46039f"
            ],
            [
             0.2222222222222222,
             "#7201a8"
            ],
            [
             0.3333333333333333,
             "#9c179e"
            ],
            [
             0.4444444444444444,
             "#bd3786"
            ],
            [
             0.5555555555555556,
             "#d8576b"
            ],
            [
             0.6666666666666666,
             "#ed7953"
            ],
            [
             0.7777777777777778,
             "#fb9f3a"
            ],
            [
             0.8888888888888888,
             "#fdca26"
            ],
            [
             1,
             "#f0f921"
            ]
           ]
          },
          "colorway": [
           "#636efa",
           "#EF553B",
           "#00cc96",
           "#ab63fa",
           "#FFA15A",
           "#19d3f3",
           "#FF6692",
           "#B6E880",
           "#FF97FF",
           "#FECB52"
          ],
          "font": {
           "color": "#2a3f5f"
          },
          "geo": {
           "bgcolor": "white",
           "lakecolor": "white",
           "landcolor": "#E5ECF6",
           "showlakes": true,
           "showland": true,
           "subunitcolor": "white"
          },
          "hoverlabel": {
           "align": "left"
          },
          "hovermode": "closest",
          "mapbox": {
           "style": "light"
          },
          "paper_bgcolor": "white",
          "plot_bgcolor": "#E5ECF6",
          "polar": {
           "angularaxis": {
            "gridcolor": "white",
            "linecolor": "white",
            "ticks": ""
           },
           "bgcolor": "#E5ECF6",
           "radialaxis": {
            "gridcolor": "white",
            "linecolor": "white",
            "ticks": ""
           }
          },
          "scene": {
           "xaxis": {
            "backgroundcolor": "#E5ECF6",
            "gridcolor": "white",
            "gridwidth": 2,
            "linecolor": "white",
            "showbackground": true,
            "ticks": "",
            "zerolinecolor": "white"
           },
           "yaxis": {
            "backgroundcolor": "#E5ECF6",
            "gridcolor": "white",
            "gridwidth": 2,
            "linecolor": "white",
            "showbackground": true,
            "ticks": "",
            "zerolinecolor": "white"
           },
           "zaxis": {
            "backgroundcolor": "#E5ECF6",
            "gridcolor": "white",
            "gridwidth": 2,
            "linecolor": "white",
            "showbackground": true,
            "ticks": "",
            "zerolinecolor": "white"
           }
          },
          "shapedefaults": {
           "line": {
            "color": "#2a3f5f"
           }
          },
          "ternary": {
           "aaxis": {
            "gridcolor": "white",
            "linecolor": "white",
            "ticks": ""
           },
           "baxis": {
            "gridcolor": "white",
            "linecolor": "white",
            "ticks": ""
           },
           "bgcolor": "#E5ECF6",
           "caxis": {
            "gridcolor": "white",
            "linecolor": "white",
            "ticks": ""
           }
          },
          "title": {
           "x": 0.05
          },
          "xaxis": {
           "automargin": true,
           "gridcolor": "white",
           "linecolor": "white",
           "ticks": "",
           "title": {
            "standoff": 15
           },
           "zerolinecolor": "white",
           "zerolinewidth": 2
          },
          "yaxis": {
           "automargin": true,
           "gridcolor": "white",
           "linecolor": "white",
           "ticks": "",
           "title": {
            "standoff": 15
           },
           "zerolinecolor": "white",
           "zerolinewidth": 2
          }
         }
        },
        "title": {
         "text": "Vertical Heatmap of Average Yearly Compensation by Education Level"
        },
        "width": 700,
        "xaxis": {
         "title": {
          "text": ""
         }
        },
        "yaxis": {
         "title": {
          "text": "Education Level"
         },
         "type": "category"
        }
       }
      }
     },
     "metadata": {},
     "output_type": "display_data"
    }
   ],
   "source": [
    "\n",
    "EdLevel = df[['EdLevel',\"ConvertedCompYearly\"]].dropna()\n",
    "EdLevel = EdLevel[(EdLevel['ConvertedCompYearly'] > 1000.00) & (EdLevel['ConvertedCompYearly'] < 1000000.00)]\n",
    "EdLevel = EdLevel.groupby('EdLevel')\n",
    "EdLevel = EdLevel.mean()\n",
    "EdLevel = EdLevel.sort_values(by='ConvertedCompYearly')[::-1]\n",
    "EdLevel = EdLevel.reset_index()\n",
    "EdLevel.replace({'Secondary school (e.g. American high school, German Realschule or Gymnasium, etc.)':'Secundary school'},inplace=True)\n",
    "\n",
    "fig = go.Figure(data=go.Heatmap(\n",
    "                   z=EdLevel['ConvertedCompYearly'][::-1].to_numpy().reshape(1, -1),  # Reshape for a single column and reverse order for vertical layout\n",
    "                   y=EdLevel.EdLevel[::-1],  # Education levels in reversed order for vertical layout\n",
    "                   x=['Average Compensation'],  # Single column label\n",
    "                   colorscale='Plasma',  # Use the 'Plasma' colorscale\n",
    "                   transpose=True))  # Transpose to swap the axes\n",
    "\n",
    "fig.update_layout(\n",
    "    title='Vertical Heatmap of Average Yearly Compensation by Education Level',\n",
    "    yaxis_title='Education Level',\n",
    "    xaxis_title='',\n",
    "    yaxis={'type': 'category'},  # Treat y-axis as categorical data,\n",
    "    height=400,  \n",
    "    width=700\n",
    ")\n",
    "\n",
    "fig.show()"
   ]
  },
  {
   "cell_type": "code",
   "execution_count": null,
   "metadata": {},
   "outputs": [
    {
     "data": {
      "image/png": "[encoded data removed]",
      "text/plain": [
       "<Figure size 1200x800 with 1 Axes>"
      ]
     },
     "metadata": {},
     "output_type": "display_data"
    }
   ],
   "source": [
    "LearnCode = df[['Age','LearnCode']].dropna()\n",
    "LearnCode = LearnCode[LearnCode['Age'] != 'Prefer not to say']\n",
    "\n",
    "array = []\n",
    "\n",
    "for num, val in enumerate(LearnCode['LearnCode']):\n",
    "    split = val.split(';')\n",
    "    for item in split:\n",
    "        array.append([LearnCode['Age'].iloc[num], item])\n",
    "    \n",
    "\n",
    "LearnCode = pd.DataFrame(array,columns=['Age', 'Learning Source'])\n",
    "\n",
    "counts = LearnCode.groupby(['Age', 'Learning Source']).size().reset_index(name='Count')\n",
    "with warnings.catch_warnings():\n",
    "    warnings.simplefilter(\"ignore\")\n",
    "    top3_per_age = counts.groupby('Age').apply(lambda group: group.nlargest(3, 'Count')).reset_index(drop=True)\n",
    "\n",
    "\n",
    "pivot_table = top3_per_age.pivot(index='Age', columns='Learning Source', values='Count').fillna(0)\n",
    "\n",
    "# Plotting\n",
    "fig, ax = plt.subplots(figsize=(12, 8))\n",
    "\n",
    "# Plot each learning source as a stacked bar\n",
    "pivot_table.plot(kind='bar', stacked=True, ax=ax)\n",
    "\n",
    "ax.set_xlabel('Learning Source')\n",
    "ax.set_ylabel('Count')\n",
    "ax.set_title('Learning Sources Count for Each Age Group')\n",
    "\n",
    "plt.xticks(rotation=45, ha='right')\n",
    "plt.legend(title='Age Group', bbox_to_anchor=(1, 1), loc='upper left')\n",
    "plt.tight_layout()\n",
    "plt.show()"
   ]
  }
 ],
 "metadata": {
  "kernelspec": {
   "display_name": "Python 3",
   "language": "python",
   "name": "python3"
  },
  "language_info": {
   "codemirror_mode": {
    "name": "ipython",
    "version": 3
   },
   "file_extension": ".py",
   "mimetype": "text/x-python",
   "name": "python",
   "nbconvert_exporter": "python",
   "pygments_lexer": "ipython3",
   "version": "3.12.1"
  }
 },
 "nbformat": 4,
 "nbformat_minor": 2
}
